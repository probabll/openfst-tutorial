{
  "nbformat": 4,
  "nbformat_minor": 0,
  "metadata": {
    "colab": {
      "name": "Discrete distributions with OpenFST",
      "provenance": [],
      "collapsed_sections": [],
      "authorship_tag": "ABX9TyMn68ABP4sCaWN1bKCXJVud",
      "include_colab_link": true
    },
    "kernelspec": {
      "name": "python3",
      "display_name": "Python 3"
    }
  },
  "cells": [
    {
      "cell_type": "markdown",
      "metadata": {
        "id": "view-in-github",
        "colab_type": "text"
      },
      "source": [
        "<a href=\"https://colab.research.google.com/github/probabll/openfst-tutorial/blob/master/Discrete_distributions_with_OpenFST.ipynb\" target=\"_parent\"><img src=\"https://colab.research.google.com/assets/colab-badge.svg\" alt=\"Open In Colab\"/></a>"
      ]
    },
    {
      "cell_type": "markdown",
      "metadata": {
        "id": "7qBCzlppmECK"
      },
      "source": [
        "aIn this notebook I illustrate how we can use standard FST operations to represent distributions over structured discrete spaces.\n",
        "\n",
        "I will start with *no* structure and represent a distribution over bit vectors, then I will introduce structure by constraining the set, in particular, I will constrain the set so that it *does not* contain certain bit vectors. \n",
        "\n",
        "This allows us, for example, to sample from a complement set. \n",
        "\n",
        "In the example I use a uniform distribution, but we can specify the actual potentials and then we would be sampling in the normalised distribution over the complement set."
      ]
    },
    {
      "cell_type": "code",
      "metadata": {
        "id": "nh7UDBaKWb75",
        "colab": {
          "base_uri": "https://localhost:8080/"
        },
        "outputId": "41ed48f6-a506-4ebf-cd31-afe7444a9f0f"
      },
      "source": [
        "!pip install openfst-python"
      ],
      "execution_count": 1,
      "outputs": [
        {
          "output_type": "stream",
          "text": [
            "Collecting openfst-python\n",
            "\u001b[?25l  Downloading https://files.pythonhosted.org/packages/dd/4b/a9729ed62c1fd7be8a31c5fe550641af5da7d9fa408b40f413a4d5852ee5/openfst_python-1.7.3-cp37-cp37m-manylinux1_x86_64.whl (15.0MB)\n",
            "\u001b[K     |████████████████████████████████| 15.0MB 296kB/s \n",
            "\u001b[?25hInstalling collected packages: openfst-python\n",
            "Successfully installed openfst-python-1.7.3\n"
          ],
          "name": "stdout"
        }
      ]
    },
    {
      "cell_type": "code",
      "metadata": {
        "id": "0j4oB5L3Wdih"
      },
      "source": [
        "import openfst_python as pyfst"
      ],
      "execution_count": 2,
      "outputs": []
    },
    {
      "cell_type": "code",
      "metadata": {
        "id": "cSf1yZVnXT3s"
      },
      "source": [
        "import numpy as np"
      ],
      "execution_count": 3,
      "outputs": []
    },
    {
      "cell_type": "markdown",
      "metadata": {
        "id": "ErqfbQVEXkPr"
      },
      "source": [
        "Here I make an FST to represent a distribution over $3$-dimensional binary vectors. That is the sample space is $\\{0, 1\\}^3$.\n",
        "\n",
        "There are no constraints in the set, other than every path contains $3$ bits.\n",
        "\n",
        "When we represent a discrete set using a finite-state automaton, a member of the set is obtained by traversing the automaton along any path from a start state to a final state.\n",
        "\n",
        "Concatenating the labels along the arc gives you an assignment, that is, a bit vector.\n"
      ]
    },
    {
      "cell_type": "code",
      "metadata": {
        "id": "sA_pSsV-Wx6g"
      },
      "source": [
        "def get_distribution(dim=3, random=False):\n",
        "    f = pyfst.Fst('log')  # negative log-prob semiring\n",
        "    s0 = f.add_state()\n",
        "    origin = s0\n",
        "    for i in range(dim):\n",
        "        destination = f.add_state()\n",
        "        for w in [0, 1]:  \n",
        "            # 0 is reserved for empty string in OpenFST, and I don't want to use SymbolTable (a cpp map from int to string)\n",
        "            # so I am just going to store w + 1\n",
        "            if random:            \n",
        "                f.add_arc(origin, pyfst.Arc(w + 1, w + 1, pyfst.Weight(f.weight_type(), -np.random.normal()), destination))\n",
        "            else:\n",
        "                f.add_arc(origin, pyfst.Arc(w + 1, w + 1, pyfst.Weight.One(f.weight_type()), destination))\n",
        "        origin = destination\n",
        "\n",
        "    f.set_start(s0)\n",
        "    f.set_final(destination, pyfst.Weight.One(f.weight_type()))\n",
        "    return f"
      ],
      "execution_count": 9,
      "outputs": []
    },
    {
      "cell_type": "code",
      "metadata": {
        "id": "AVUdsKizY0b0",
        "colab": {
          "base_uri": "https://localhost:8080/",
          "height": 90
        },
        "outputId": "c5b5ebce-1d0f-4ce4-b18c-037104b25b27"
      },
      "source": [
        "dist = get_distribution()\n",
        "dist"
      ],
      "execution_count": 11,
      "outputs": [
        {
          "output_type": "execute_result",
          "data": {
            "text/plain": [
              "<vector Fst at 0x7ff9de813a30>"
            ],
            "image/svg+xml": "<?xml version=\"1.0\" encoding=\"UTF-8\" standalone=\"no\"?>\n<!DOCTYPE svg PUBLIC \"-//W3C//DTD SVG 1.1//EN\"\n \"http://www.w3.org/Graphics/SVG/1.1/DTD/svg11.dtd\">\n<!-- Generated by graphviz version 2.40.1 (20161225.0304)\n -->\n<!-- Title: FST Pages: 1 -->\n<svg width=\"274pt\" height=\"52pt\"\n viewBox=\"0.00 0.00 274.00 52.00\" xmlns=\"http://www.w3.org/2000/svg\" xmlns:xlink=\"http://www.w3.org/1999/xlink\">\n<g id=\"graph0\" class=\"graph\" transform=\"scale(1 1) rotate(0) translate(4 48)\">\n<title>FST</title>\n<polygon fill=\"#ffffff\" stroke=\"transparent\" points=\"-4,4 -4,-48 270,-48 270,4 -4,4\"/>\n<!-- 0 -->\n<g id=\"node1\" class=\"node\">\n<title>0</title>\n<ellipse fill=\"none\" stroke=\"#000000\" stroke-width=\"2\" cx=\"18\" cy=\"-22\" rx=\"18\" ry=\"18\"/>\n<text text-anchor=\"middle\" x=\"18\" y=\"-18.3\" font-family=\"Times,serif\" font-size=\"14.00\" fill=\"#000000\">0</text>\n</g>\n<!-- 1 -->\n<g id=\"node2\" class=\"node\">\n<title>1</title>\n<ellipse fill=\"none\" stroke=\"#000000\" cx=\"92\" cy=\"-22\" rx=\"18\" ry=\"18\"/>\n<text text-anchor=\"middle\" x=\"92\" y=\"-18.3\" font-family=\"Times,serif\" font-size=\"14.00\" fill=\"#000000\">1</text>\n</g>\n<!-- 0&#45;&gt;1 -->\n<g id=\"edge1\" class=\"edge\">\n<title>0&#45;&gt;1</title>\n<path fill=\"none\" stroke=\"#000000\" d=\"M36.2921,-22C44.5365,-22 54.4624,-22 63.6378,-22\"/>\n<polygon fill=\"#000000\" stroke=\"#000000\" points=\"63.9183,-25.5001 73.9183,-22 63.9182,-18.5001 63.9183,-25.5001\"/>\n<text text-anchor=\"middle\" x=\"55\" y=\"-25.8\" font-family=\"Times,serif\" font-size=\"14.00\" fill=\"#000000\">1</text>\n</g>\n<!-- 0&#45;&gt;1 -->\n<g id=\"edge2\" class=\"edge\">\n<title>0&#45;&gt;1</title>\n<path fill=\"none\" stroke=\"#000000\" d=\"M32.7129,-11.3344C38.1808,-7.9798 44.6133,-4.7072 51,-3 57.0207,-1.3906 63.2527,-2.6095 68.9851,-5.0564\"/>\n<polygon fill=\"#000000\" stroke=\"#000000\" points=\"67.589,-8.2835 78.0354,-10.0511 70.9714,-2.1549 67.589,-8.2835\"/>\n<text text-anchor=\"middle\" x=\"55\" y=\"-6.8\" font-family=\"Times,serif\" font-size=\"14.00\" fill=\"#000000\">2</text>\n</g>\n<!-- 2 -->\n<g id=\"node3\" class=\"node\">\n<title>2</title>\n<ellipse fill=\"none\" stroke=\"#000000\" cx=\"166\" cy=\"-22\" rx=\"18\" ry=\"18\"/>\n<text text-anchor=\"middle\" x=\"166\" y=\"-18.3\" font-family=\"Times,serif\" font-size=\"14.00\" fill=\"#000000\">2</text>\n</g>\n<!-- 1&#45;&gt;2 -->\n<g id=\"edge3\" class=\"edge\">\n<title>1&#45;&gt;2</title>\n<path fill=\"none\" stroke=\"#000000\" d=\"M110.2921,-22C118.5365,-22 128.4624,-22 137.6378,-22\"/>\n<polygon fill=\"#000000\" stroke=\"#000000\" points=\"137.9183,-25.5001 147.9183,-22 137.9182,-18.5001 137.9183,-25.5001\"/>\n<text text-anchor=\"middle\" x=\"129\" y=\"-25.8\" font-family=\"Times,serif\" font-size=\"14.00\" fill=\"#000000\">1</text>\n</g>\n<!-- 1&#45;&gt;2 -->\n<g id=\"edge4\" class=\"edge\">\n<title>1&#45;&gt;2</title>\n<path fill=\"none\" stroke=\"#000000\" d=\"M106.7129,-11.3344C112.1808,-7.9798 118.6133,-4.7072 125,-3 131.0207,-1.3906 137.2527,-2.6095 142.9851,-5.0564\"/>\n<polygon fill=\"#000000\" stroke=\"#000000\" points=\"141.589,-8.2835 152.0354,-10.0511 144.9714,-2.1549 141.589,-8.2835\"/>\n<text text-anchor=\"middle\" x=\"129\" y=\"-6.8\" font-family=\"Times,serif\" font-size=\"14.00\" fill=\"#000000\">2</text>\n</g>\n<!-- 3 -->\n<g id=\"node4\" class=\"node\">\n<title>3</title>\n<ellipse fill=\"none\" stroke=\"#000000\" cx=\"244\" cy=\"-22\" rx=\"18\" ry=\"18\"/>\n<ellipse fill=\"none\" stroke=\"#000000\" cx=\"244\" cy=\"-22\" rx=\"22\" ry=\"22\"/>\n<text text-anchor=\"middle\" x=\"244\" y=\"-18.3\" font-family=\"Times,serif\" font-size=\"14.00\" fill=\"#000000\">3</text>\n</g>\n<!-- 2&#45;&gt;3 -->\n<g id=\"edge5\" class=\"edge\">\n<title>2&#45;&gt;3</title>\n<path fill=\"none\" stroke=\"#000000\" d=\"M184.0908,-22C192.2654,-22 202.1799,-22 211.5711,-22\"/>\n<polygon fill=\"#000000\" stroke=\"#000000\" points=\"211.831,-25.5001 221.8309,-22 211.8309,-18.5001 211.831,-25.5001\"/>\n<text text-anchor=\"middle\" x=\"203\" y=\"-25.8\" font-family=\"Times,serif\" font-size=\"14.00\" fill=\"#000000\">1</text>\n</g>\n<!-- 2&#45;&gt;3 -->\n<g id=\"edge6\" class=\"edge\">\n<title>2&#45;&gt;3</title>\n<path fill=\"none\" stroke=\"#000000\" d=\"M180.7129,-11.3344C186.1808,-7.9798 192.6133,-4.7072 199,-3 204.9832,-1.4006 211.2149,-2.2601 217.0664,-4.3056\"/>\n<polygon fill=\"#000000\" stroke=\"#000000\" points=\"215.8987,-7.6217 226.4441,-8.6432 218.8374,-1.2684 215.8987,-7.6217\"/>\n<text text-anchor=\"middle\" x=\"203\" y=\"-6.8\" font-family=\"Times,serif\" font-size=\"14.00\" fill=\"#000000\">2</text>\n</g>\n</g>\n</svg>\n"
          },
          "metadata": {
            "tags": []
          },
          "execution_count": 11
        }
      ]
    },
    {
      "cell_type": "markdown",
      "metadata": {
        "id": "EuJjIdwGgC8R"
      },
      "source": [
        "Here I turn a given bit-vector into an FST"
      ]
    },
    {
      "cell_type": "code",
      "metadata": {
        "id": "uJHH_E-QYTsz"
      },
      "source": [
        "def make_path(bitvector):\n",
        "    f = pyfst.Fst('log')\n",
        "    s0 = f.add_state()\n",
        "    origin = s0\n",
        "    for w in bitvector:\n",
        "        assert w in {0, 1}\n",
        "        destination = f.add_state()\n",
        "        f.add_arc(origin, pyfst.Arc(w + 1, w + 1, pyfst.Weight.One(f.weight_type()), destination))\n",
        "        origin = destination\n",
        "    f.set_start(s0)\n",
        "    f.set_final(destination, pyfst.Weight.One(f.weight_type()))\n",
        "    return f.arcsort('ilabel')  # useful for some operations, like difference"
      ],
      "execution_count": 12,
      "outputs": []
    },
    {
      "cell_type": "code",
      "metadata": {
        "id": "6fcc9QFmZJi1",
        "colab": {
          "base_uri": "https://localhost:8080/",
          "height": 90
        },
        "outputId": "a3e61d7f-2214-4268-c780-ffe828509504"
      },
      "source": [
        "assignment = make_path([0, 0, 0])\n",
        "assignment"
      ],
      "execution_count": 13,
      "outputs": [
        {
          "output_type": "execute_result",
          "data": {
            "text/plain": [
              "<vector Fst at 0x7ff9de80a8b0>"
            ],
            "image/svg+xml": "<?xml version=\"1.0\" encoding=\"UTF-8\" standalone=\"no\"?>\n<!DOCTYPE svg PUBLIC \"-//W3C//DTD SVG 1.1//EN\"\n \"http://www.w3.org/Graphics/SVG/1.1/DTD/svg11.dtd\">\n<!-- Generated by graphviz version 2.40.1 (20161225.0304)\n -->\n<!-- Title: FST Pages: 1 -->\n<svg width=\"274pt\" height=\"52pt\"\n viewBox=\"0.00 0.00 274.00 52.00\" xmlns=\"http://www.w3.org/2000/svg\" xmlns:xlink=\"http://www.w3.org/1999/xlink\">\n<g id=\"graph0\" class=\"graph\" transform=\"scale(1 1) rotate(0) translate(4 48)\">\n<title>FST</title>\n<polygon fill=\"#ffffff\" stroke=\"transparent\" points=\"-4,4 -4,-48 270,-48 270,4 -4,4\"/>\n<!-- 0 -->\n<g id=\"node1\" class=\"node\">\n<title>0</title>\n<ellipse fill=\"none\" stroke=\"#000000\" stroke-width=\"2\" cx=\"18\" cy=\"-22\" rx=\"18\" ry=\"18\"/>\n<text text-anchor=\"middle\" x=\"18\" y=\"-18.3\" font-family=\"Times,serif\" font-size=\"14.00\" fill=\"#000000\">0</text>\n</g>\n<!-- 1 -->\n<g id=\"node2\" class=\"node\">\n<title>1</title>\n<ellipse fill=\"none\" stroke=\"#000000\" cx=\"92\" cy=\"-22\" rx=\"18\" ry=\"18\"/>\n<text text-anchor=\"middle\" x=\"92\" y=\"-18.3\" font-family=\"Times,serif\" font-size=\"14.00\" fill=\"#000000\">1</text>\n</g>\n<!-- 0&#45;&gt;1 -->\n<g id=\"edge1\" class=\"edge\">\n<title>0&#45;&gt;1</title>\n<path fill=\"none\" stroke=\"#000000\" d=\"M36.2921,-22C44.5365,-22 54.4624,-22 63.6378,-22\"/>\n<polygon fill=\"#000000\" stroke=\"#000000\" points=\"63.9183,-25.5001 73.9183,-22 63.9182,-18.5001 63.9183,-25.5001\"/>\n<text text-anchor=\"middle\" x=\"55\" y=\"-25.8\" font-family=\"Times,serif\" font-size=\"14.00\" fill=\"#000000\">1</text>\n</g>\n<!-- 2 -->\n<g id=\"node3\" class=\"node\">\n<title>2</title>\n<ellipse fill=\"none\" stroke=\"#000000\" cx=\"166\" cy=\"-22\" rx=\"18\" ry=\"18\"/>\n<text text-anchor=\"middle\" x=\"166\" y=\"-18.3\" font-family=\"Times,serif\" font-size=\"14.00\" fill=\"#000000\">2</text>\n</g>\n<!-- 1&#45;&gt;2 -->\n<g id=\"edge2\" class=\"edge\">\n<title>1&#45;&gt;2</title>\n<path fill=\"none\" stroke=\"#000000\" d=\"M110.2921,-22C118.5365,-22 128.4624,-22 137.6378,-22\"/>\n<polygon fill=\"#000000\" stroke=\"#000000\" points=\"137.9183,-25.5001 147.9183,-22 137.9182,-18.5001 137.9183,-25.5001\"/>\n<text text-anchor=\"middle\" x=\"129\" y=\"-25.8\" font-family=\"Times,serif\" font-size=\"14.00\" fill=\"#000000\">1</text>\n</g>\n<!-- 3 -->\n<g id=\"node4\" class=\"node\">\n<title>3</title>\n<ellipse fill=\"none\" stroke=\"#000000\" cx=\"244\" cy=\"-22\" rx=\"18\" ry=\"18\"/>\n<ellipse fill=\"none\" stroke=\"#000000\" cx=\"244\" cy=\"-22\" rx=\"22\" ry=\"22\"/>\n<text text-anchor=\"middle\" x=\"244\" y=\"-18.3\" font-family=\"Times,serif\" font-size=\"14.00\" fill=\"#000000\">3</text>\n</g>\n<!-- 2&#45;&gt;3 -->\n<g id=\"edge3\" class=\"edge\">\n<title>2&#45;&gt;3</title>\n<path fill=\"none\" stroke=\"#000000\" d=\"M184.0908,-22C192.2654,-22 202.1799,-22 211.5711,-22\"/>\n<polygon fill=\"#000000\" stroke=\"#000000\" points=\"211.831,-25.5001 221.8309,-22 211.8309,-18.5001 211.831,-25.5001\"/>\n<text text-anchor=\"middle\" x=\"203\" y=\"-25.8\" font-family=\"Times,serif\" font-size=\"14.00\" fill=\"#000000\">1</text>\n</g>\n</g>\n</svg>\n"
          },
          "metadata": {
            "tags": []
          },
          "execution_count": 13
        }
      ]
    },
    {
      "cell_type": "markdown",
      "metadata": {
        "id": "pTbxkBtphugh"
      },
      "source": [
        "We can compute intersections, here is a trivial one: $\\{0, 1\\}^3 \\cap \\{(0, 0, 0)\\} = \\{(0, 0, 0)\\}$."
      ]
    },
    {
      "cell_type": "code",
      "metadata": {
        "id": "1AuS9150mthz",
        "colab": {
          "base_uri": "https://localhost:8080/",
          "height": 90
        },
        "outputId": "d9d11621-c66f-409e-9207-d6109ff29d0a"
      },
      "source": [
        "pyfst.intersect(dist, assignment, connect=True)"
      ],
      "execution_count": 15,
      "outputs": [
        {
          "output_type": "execute_result",
          "data": {
            "text/plain": [
              "<vector Fst at 0x7ff9e8e594b0>"
            ],
            "image/svg+xml": "<?xml version=\"1.0\" encoding=\"UTF-8\" standalone=\"no\"?>\n<!DOCTYPE svg PUBLIC \"-//W3C//DTD SVG 1.1//EN\"\n \"http://www.w3.org/Graphics/SVG/1.1/DTD/svg11.dtd\">\n<!-- Generated by graphviz version 2.40.1 (20161225.0304)\n -->\n<!-- Title: FST Pages: 1 -->\n<svg width=\"274pt\" height=\"52pt\"\n viewBox=\"0.00 0.00 274.00 52.00\" xmlns=\"http://www.w3.org/2000/svg\" xmlns:xlink=\"http://www.w3.org/1999/xlink\">\n<g id=\"graph0\" class=\"graph\" transform=\"scale(1 1) rotate(0) translate(4 48)\">\n<title>FST</title>\n<polygon fill=\"#ffffff\" stroke=\"transparent\" points=\"-4,4 -4,-48 270,-48 270,4 -4,4\"/>\n<!-- 0 -->\n<g id=\"node1\" class=\"node\">\n<title>0</title>\n<ellipse fill=\"none\" stroke=\"#000000\" stroke-width=\"2\" cx=\"18\" cy=\"-22\" rx=\"18\" ry=\"18\"/>\n<text text-anchor=\"middle\" x=\"18\" y=\"-18.3\" font-family=\"Times,serif\" font-size=\"14.00\" fill=\"#000000\">0</text>\n</g>\n<!-- 1 -->\n<g id=\"node2\" class=\"node\">\n<title>1</title>\n<ellipse fill=\"none\" stroke=\"#000000\" cx=\"92\" cy=\"-22\" rx=\"18\" ry=\"18\"/>\n<text text-anchor=\"middle\" x=\"92\" y=\"-18.3\" font-family=\"Times,serif\" font-size=\"14.00\" fill=\"#000000\">1</text>\n</g>\n<!-- 0&#45;&gt;1 -->\n<g id=\"edge1\" class=\"edge\">\n<title>0&#45;&gt;1</title>\n<path fill=\"none\" stroke=\"#000000\" d=\"M36.2921,-22C44.5365,-22 54.4624,-22 63.6378,-22\"/>\n<polygon fill=\"#000000\" stroke=\"#000000\" points=\"63.9183,-25.5001 73.9183,-22 63.9182,-18.5001 63.9183,-25.5001\"/>\n<text text-anchor=\"middle\" x=\"55\" y=\"-25.8\" font-family=\"Times,serif\" font-size=\"14.00\" fill=\"#000000\">1</text>\n</g>\n<!-- 2 -->\n<g id=\"node3\" class=\"node\">\n<title>2</title>\n<ellipse fill=\"none\" stroke=\"#000000\" cx=\"166\" cy=\"-22\" rx=\"18\" ry=\"18\"/>\n<text text-anchor=\"middle\" x=\"166\" y=\"-18.3\" font-family=\"Times,serif\" font-size=\"14.00\" fill=\"#000000\">2</text>\n</g>\n<!-- 1&#45;&gt;2 -->\n<g id=\"edge2\" class=\"edge\">\n<title>1&#45;&gt;2</title>\n<path fill=\"none\" stroke=\"#000000\" d=\"M110.2921,-22C118.5365,-22 128.4624,-22 137.6378,-22\"/>\n<polygon fill=\"#000000\" stroke=\"#000000\" points=\"137.9183,-25.5001 147.9183,-22 137.9182,-18.5001 137.9183,-25.5001\"/>\n<text text-anchor=\"middle\" x=\"129\" y=\"-25.8\" font-family=\"Times,serif\" font-size=\"14.00\" fill=\"#000000\">1</text>\n</g>\n<!-- 3 -->\n<g id=\"node4\" class=\"node\">\n<title>3</title>\n<ellipse fill=\"none\" stroke=\"#000000\" cx=\"244\" cy=\"-22\" rx=\"18\" ry=\"18\"/>\n<ellipse fill=\"none\" stroke=\"#000000\" cx=\"244\" cy=\"-22\" rx=\"22\" ry=\"22\"/>\n<text text-anchor=\"middle\" x=\"244\" y=\"-18.3\" font-family=\"Times,serif\" font-size=\"14.00\" fill=\"#000000\">3</text>\n</g>\n<!-- 2&#45;&gt;3 -->\n<g id=\"edge3\" class=\"edge\">\n<title>2&#45;&gt;3</title>\n<path fill=\"none\" stroke=\"#000000\" d=\"M184.0908,-22C192.2654,-22 202.1799,-22 211.5711,-22\"/>\n<polygon fill=\"#000000\" stroke=\"#000000\" points=\"211.831,-25.5001 221.8309,-22 211.8309,-18.5001 211.831,-25.5001\"/>\n<text text-anchor=\"middle\" x=\"203\" y=\"-25.8\" font-family=\"Times,serif\" font-size=\"14.00\" fill=\"#000000\">1</text>\n</g>\n</g>\n</svg>\n"
          },
          "metadata": {
            "tags": []
          },
          "execution_count": 15
        }
      ]
    },
    {
      "cell_type": "markdown",
      "metadata": {
        "id": "H7lH5LE6hxNM"
      },
      "source": [
        "Better yet, we can intersect the complement, that is, compute the difference.\n",
        "\n",
        "Let $\\Omega = \\{0, 1\\}^3$ be the sample space.\n",
        "\n",
        "Then, $\\Omega \\setminus \\{(0, 0, 0)\\}$ is the space of all bit vectors except the vector $\\mathbf 0_3$."
      ]
    },
    {
      "cell_type": "code",
      "metadata": {
        "id": "9DqVVdzUaxYn",
        "colab": {
          "base_uri": "https://localhost:8080/",
          "height": 192
        },
        "outputId": "4270f79b-6490-413b-b000-b4df5934676e"
      },
      "source": [
        "diff = pyfst.difference(dist, assignment, connect=True)\n",
        "diff"
      ],
      "execution_count": 17,
      "outputs": [
        {
          "output_type": "execute_result",
          "data": {
            "text/plain": [
              "<vector Fst at 0x7ff9de813c70>"
            ],
            "image/svg+xml": "<?xml version=\"1.0\" encoding=\"UTF-8\" standalone=\"no\"?>\n<!DOCTYPE svg PUBLIC \"-//W3C//DTD SVG 1.1//EN\"\n \"http://www.w3.org/Graphics/SVG/1.1/DTD/svg11.dtd\">\n<!-- Generated by graphviz version 2.40.1 (20161225.0304)\n -->\n<!-- Title: FST Pages: 1 -->\n<svg width=\"274pt\" height=\"128pt\"\n viewBox=\"0.00 0.00 274.00 128.00\" xmlns=\"http://www.w3.org/2000/svg\" xmlns:xlink=\"http://www.w3.org/1999/xlink\">\n<g id=\"graph0\" class=\"graph\" transform=\"scale(1 1) rotate(0) translate(4 124)\">\n<title>FST</title>\n<polygon fill=\"#ffffff\" stroke=\"transparent\" points=\"-4,4 -4,-124 270,-124 270,4 -4,4\"/>\n<!-- 0 -->\n<g id=\"node1\" class=\"node\">\n<title>0</title>\n<ellipse fill=\"none\" stroke=\"#000000\" stroke-width=\"2\" cx=\"18\" cy=\"-45\" rx=\"18\" ry=\"18\"/>\n<text text-anchor=\"middle\" x=\"18\" y=\"-41.3\" font-family=\"Times,serif\" font-size=\"14.00\" fill=\"#000000\">0</text>\n</g>\n<!-- 1 -->\n<g id=\"node2\" class=\"node\">\n<title>1</title>\n<ellipse fill=\"none\" stroke=\"#000000\" cx=\"92\" cy=\"-72\" rx=\"18\" ry=\"18\"/>\n<text text-anchor=\"middle\" x=\"92\" y=\"-68.3\" font-family=\"Times,serif\" font-size=\"14.00\" fill=\"#000000\">1</text>\n</g>\n<!-- 0&#45;&gt;1 -->\n<g id=\"edge1\" class=\"edge\">\n<title>0&#45;&gt;1</title>\n<path fill=\"none\" stroke=\"#000000\" d=\"M35.1631,-51.2622C44.1292,-54.5336 55.3019,-58.6102 65.3627,-62.281\"/>\n<polygon fill=\"#000000\" stroke=\"#000000\" points=\"64.3361,-65.632 74.93,-65.7718 66.7355,-59.0561 64.3361,-65.632\"/>\n<text text-anchor=\"middle\" x=\"55\" y=\"-62.8\" font-family=\"Times,serif\" font-size=\"14.00\" fill=\"#000000\">1</text>\n</g>\n<!-- 2 -->\n<g id=\"node3\" class=\"node\">\n<title>2</title>\n<ellipse fill=\"none\" stroke=\"#000000\" cx=\"92\" cy=\"-18\" rx=\"18\" ry=\"18\"/>\n<text text-anchor=\"middle\" x=\"92\" y=\"-14.3\" font-family=\"Times,serif\" font-size=\"14.00\" fill=\"#000000\">2</text>\n</g>\n<!-- 0&#45;&gt;2 -->\n<g id=\"edge2\" class=\"edge\">\n<title>0&#45;&gt;2</title>\n<path fill=\"none\" stroke=\"#000000\" d=\"M35.1631,-38.7378C44.1292,-35.4664 55.3019,-31.3898 65.3627,-27.719\"/>\n<polygon fill=\"#000000\" stroke=\"#000000\" points=\"66.7355,-30.9439 74.93,-24.2282 64.3361,-24.368 66.7355,-30.9439\"/>\n<text text-anchor=\"middle\" x=\"55\" y=\"-35.8\" font-family=\"Times,serif\" font-size=\"14.00\" fill=\"#000000\">2</text>\n</g>\n<!-- 3 -->\n<g id=\"node4\" class=\"node\">\n<title>3</title>\n<ellipse fill=\"none\" stroke=\"#000000\" cx=\"166\" cy=\"-102\" rx=\"18\" ry=\"18\"/>\n<text text-anchor=\"middle\" x=\"166\" y=\"-98.3\" font-family=\"Times,serif\" font-size=\"14.00\" fill=\"#000000\">3</text>\n</g>\n<!-- 1&#45;&gt;3 -->\n<g id=\"edge3\" class=\"edge\">\n<title>1&#45;&gt;3</title>\n<path fill=\"none\" stroke=\"#000000\" d=\"M108.7917,-78.8075C117.9693,-82.5281 129.5396,-87.2188 139.8695,-91.4065\"/>\n<polygon fill=\"#000000\" stroke=\"#000000\" points=\"138.6923,-94.706 149.2747,-95.2195 141.3223,-88.2188 138.6923,-94.706\"/>\n<text text-anchor=\"middle\" x=\"129\" y=\"-90.8\" font-family=\"Times,serif\" font-size=\"14.00\" fill=\"#000000\">1</text>\n</g>\n<!-- 4 -->\n<g id=\"node5\" class=\"node\">\n<title>4</title>\n<ellipse fill=\"none\" stroke=\"#000000\" cx=\"166\" cy=\"-26\" rx=\"18\" ry=\"18\"/>\n<text text-anchor=\"middle\" x=\"166\" y=\"-22.3\" font-family=\"Times,serif\" font-size=\"14.00\" fill=\"#000000\">4</text>\n</g>\n<!-- 1&#45;&gt;4 -->\n<g id=\"edge4\" class=\"edge\">\n<title>1&#45;&gt;4</title>\n<path fill=\"none\" stroke=\"#000000\" d=\"M107.3328,-62.4688C117.3541,-56.2393 130.6496,-47.9746 142.0495,-40.8882\"/>\n<polygon fill=\"#000000\" stroke=\"#000000\" points=\"144.0417,-43.7709 150.6868,-35.519 140.3461,-37.8259 144.0417,-43.7709\"/>\n<text text-anchor=\"middle\" x=\"129\" y=\"-53.8\" font-family=\"Times,serif\" font-size=\"14.00\" fill=\"#000000\">2</text>\n</g>\n<!-- 2&#45;&gt;4 -->\n<g id=\"edge5\" class=\"edge\">\n<title>2&#45;&gt;4</title>\n<path fill=\"none\" stroke=\"#000000\" d=\"M109.9133,-19.9366C118.3045,-20.8437 128.4992,-21.9459 137.8835,-22.9604\"/>\n<polygon fill=\"#000000\" stroke=\"#000000\" points=\"137.6769,-26.4583 147.9951,-24.0535 138.4293,-19.4989 137.6769,-26.4583\"/>\n<text text-anchor=\"middle\" x=\"129\" y=\"-25.8\" font-family=\"Times,serif\" font-size=\"14.00\" fill=\"#000000\">1</text>\n</g>\n<!-- 2&#45;&gt;4 -->\n<g id=\"edge6\" class=\"edge\">\n<title>2&#45;&gt;4</title>\n<path fill=\"none\" stroke=\"#000000\" d=\"M106.6537,-7.0684C114.408,-2.6159 124.1351,.8827 133,-2 137.0926,-3.3309 141.1012,-5.3816 144.8352,-7.7356\"/>\n<polygon fill=\"#000000\" stroke=\"#000000\" points=\"142.7986,-10.5821 152.9596,-13.5827 146.8876,-4.9005 142.7986,-10.5821\"/>\n<text text-anchor=\"middle\" x=\"129\" y=\"-5.8\" font-family=\"Times,serif\" font-size=\"14.00\" fill=\"#000000\">2</text>\n</g>\n<!-- 5 -->\n<g id=\"node6\" class=\"node\">\n<title>5</title>\n<ellipse fill=\"none\" stroke=\"#000000\" cx=\"244\" cy=\"-64\" rx=\"18\" ry=\"18\"/>\n<ellipse fill=\"none\" stroke=\"#000000\" cx=\"244\" cy=\"-64\" rx=\"22\" ry=\"22\"/>\n<text text-anchor=\"middle\" x=\"244\" y=\"-60.3\" font-family=\"Times,serif\" font-size=\"14.00\" fill=\"#000000\">5</text>\n</g>\n<!-- 3&#45;&gt;5 -->\n<g id=\"edge7\" class=\"edge\">\n<title>3&#45;&gt;5</title>\n<path fill=\"none\" stroke=\"#000000\" d=\"M182.5418,-93.9412C191.9496,-89.3579 204.0022,-83.4861 214.9379,-78.1584\"/>\n<polygon fill=\"#000000\" stroke=\"#000000\" points=\"216.709,-81.1889 224.166,-73.6627 213.6432,-74.896 216.709,-81.1889\"/>\n<text text-anchor=\"middle\" x=\"203\" y=\"-88.8\" font-family=\"Times,serif\" font-size=\"14.00\" fill=\"#000000\">2</text>\n</g>\n<!-- 4&#45;&gt;5 -->\n<g id=\"edge8\" class=\"edge\">\n<title>4&#45;&gt;5</title>\n<path fill=\"none\" stroke=\"#000000\" d=\"M182.5418,-34.0588C191.9496,-38.6421 204.0022,-44.5139 214.9379,-49.8416\"/>\n<polygon fill=\"#000000\" stroke=\"#000000\" points=\"213.6432,-53.104 224.166,-54.3373 216.709,-46.8111 213.6432,-53.104\"/>\n<text text-anchor=\"middle\" x=\"203\" y=\"-48.8\" font-family=\"Times,serif\" font-size=\"14.00\" fill=\"#000000\">1</text>\n</g>\n<!-- 4&#45;&gt;5 -->\n<g id=\"edge9\" class=\"edge\">\n<title>4&#45;&gt;5</title>\n<path fill=\"none\" stroke=\"#000000\" d=\"M183.3904,-21.1379C190.935,-19.9212 199.6957,-19.7528 207,-23 214.1076,-26.1597 220.4261,-31.4341 225.7418,-37.1657\"/>\n<polygon fill=\"#000000\" stroke=\"#000000\" points=\"223.2633,-39.6592 232.349,-45.1091 228.645,-35.1828 223.2633,-39.6592\"/>\n<text text-anchor=\"middle\" x=\"203\" y=\"-26.8\" font-family=\"Times,serif\" font-size=\"14.00\" fill=\"#000000\">2</text>\n</g>\n</g>\n</svg>\n"
          },
          "metadata": {
            "tags": []
          },
          "execution_count": 17
        }
      ]
    },
    {
      "cell_type": "markdown",
      "metadata": {
        "id": "rSgn_KblSobv"
      },
      "source": [
        "This particular set is of great importance. Imagine a situation where each bit is associated with a component in a mixture model. Imagine we can switch components on and off, obtaining a sparse mixture. Last, assume we *cannot* switch all components off, as that would return a degenerate distribution, then this set efficiently represents all possible combinations of components except the degenerate case. Here we constructed the set using FST difference, we could also create a customised algorithm to construct this set directly. This requires a bit of custom code, but might actually lead to a more compact FST. OpenFST does have operations to compress automata, but I do not recommend using it (we would be wasting computation, since the procedure we need is far simpler). "
      ]
    },
    {
      "cell_type": "markdown",
      "metadata": {
        "id": "hgV7P5R5h8Pn"
      },
      "source": [
        "It is harder to represent a constrained set. Let this sink. It is true. Here is the intuition, think of a constraint as a factor that is inifinitely negative (log potential semantics). Constraining a set not to contain a bit vector introduces a factor that is non-local, since a bit vector is a *complete* assignment."
      ]
    },
    {
      "cell_type": "markdown",
      "metadata": {
        "id": "A3BC1m6NidjB"
      },
      "source": [
        "We can use shortest-distance algorithm to compute sum of probabilities. OpenFST calls it shortest-distance because algorithmically that is what it boils down to. But because OpenFST supports different semirings, semantically, this corresponds to inside weights (or backward weights if you prefer)."
      ]
    },
    {
      "cell_type": "code",
      "metadata": {
        "id": "rbOLY_rq-LST",
        "colab": {
          "base_uri": "https://localhost:8080/"
        },
        "outputId": "34822b74-ba4a-41ff-b70a-6368d5071783"
      },
      "source": [
        "inside = pyfst.shortestdistance(diff, reverse=True)  # reverse=True is important to get the correct quantities\n",
        "for i, w in enumerate(inside):\n",
        "    print('paths leaving state', i, 'accumulate this much weight (in -log prob semiring)', float(w))"
      ],
      "execution_count": 19,
      "outputs": [
        {
          "output_type": "stream",
          "text": [
            "paths leaving state 0 accumulate this much weight (in -log prob semiring) -1.94591022\n",
            "paths leaving state 1 accumulate this much weight (in -log prob semiring) -1.09861231\n",
            "paths leaving state 2 accumulate this much weight (in -log prob semiring) -1.38629436\n",
            "paths leaving state 3 accumulate this much weight (in -log prob semiring) 0.0\n",
            "paths leaving state 4 accumulate this much weight (in -log prob semiring) -0.693147182\n",
            "paths leaving state 5 accumulate this much weight (in -log prob semiring) 0.0\n"
          ],
          "name": "stdout"
        }
      ]
    },
    {
      "cell_type": "markdown",
      "metadata": {
        "id": "VVF0D9L7i-w5"
      },
      "source": [
        "We can use this to compute best path, k-best paths, and also to obtain samples. Here is sampling:"
      ]
    },
    {
      "cell_type": "code",
      "metadata": {
        "id": "avOXHDmMfrBE"
      },
      "source": [
        "def sample(fst, inside_table=None):\n",
        "    if inside_table is None:\n",
        "        inside_table = pyfst.shortestdistance(fst, reverse=True)\n",
        "    # We start from the initial node\n",
        "    sid = fst.start()\n",
        "    path = []\n",
        "    weights = []\n",
        "    # and we require a specific semiring (otherwise shortestdistance won't correspond to (-log) inside weights)\n",
        "    assert fst.weight_type() == 'log'  \n",
        "    \n",
        "    while fst.final(sid) == pyfst.Weight.Zero(dist.weight_type()):  # while not final \n",
        "        assert inside_table[sid] != pyfst.Weight.Zero(dist.weight_type())\n",
        "        # in probability space this is inside[origin] * u where u ~ Uniform(0,1)\n",
        "        th = float(inside_table[sid]) - np.log(np.random.uniform())\n",
        "        # in probability space this corresponds to sum_{arc} arc.weight * inside[arc.destination] where arc departs from origin\n",
        "        acc = pyfst.Weight.Zero(dist.weight_type())\n",
        "        for arc in fst.arcs(sid):            \n",
        "            acc = pyfst.plus(acc, pyfst.times(arc.weight, inside_table[arc.nextstate]))\n",
        "            # in probability space this corresponds to acc/inside[origin] > u\n",
        "            if float(acc) < th: break\n",
        "        path.append(arc.ilabel - 1)  # to show the label as a bit we subtract 1\n",
        "        weights.append(float(arc.weight))\n",
        "        sid = arc.nextstate        \n",
        "    return path, weights\n"
      ],
      "execution_count": 20,
      "outputs": []
    },
    {
      "cell_type": "markdown",
      "metadata": {
        "id": "F_Ovxc_Oj6mq"
      },
      "source": [
        "Let's sample from the uniform distribution over all bit vectors."
      ]
    },
    {
      "cell_type": "code",
      "metadata": {
        "id": "9e_xTiD_6-Tv",
        "colab": {
          "base_uri": "https://localhost:8080/"
        },
        "outputId": "3d28f6c4-a973-4543-88b9-5a9ccb9b0a23"
      },
      "source": [
        "inside = pyfst.shortestdistance(dist, reverse=True)\n",
        "# Let's get 1000 samples    \n",
        "samples = np.zeros([1000, 3], dtype=int)\n",
        "for i in range(1000):\n",
        "    path, weight = sample(dist, inside)\n",
        "    samples[i] = np.array(path, dtype=int)\n",
        "samples.mean(0)"
      ],
      "execution_count": 21,
      "outputs": [
        {
          "output_type": "execute_result",
          "data": {
            "text/plain": [
              "array([0.491, 0.509, 0.503])"
            ]
          },
          "metadata": {
            "tags": []
          },
          "execution_count": 21
        }
      ]
    },
    {
      "cell_type": "markdown",
      "metadata": {
        "id": "SBMM7LLNkUfE"
      },
      "source": [
        "Let's check what happens when we remove `[0, 0, 0]` from the support."
      ]
    },
    {
      "cell_type": "code",
      "metadata": {
        "id": "jFxiNEmO7yuV",
        "colab": {
          "base_uri": "https://localhost:8080/"
        },
        "outputId": "64c89558-b452-4eb0-8d42-3c18f83aaaba"
      },
      "source": [
        "inside_diff = pyfst.shortestdistance(diff, reverse=True)\n",
        "samples_diff = np.zeros([1000, 3], dtype=int)\n",
        "for i in range(1000):\n",
        "    path, weight = sample(diff, inside_diff)\n",
        "    samples_diff[i] = np.array(path, dtype=int)\n",
        "samples_diff.mean(0)"
      ],
      "execution_count": 22,
      "outputs": [
        {
          "output_type": "execute_result",
          "data": {
            "text/plain": [
              "array([0.553, 0.579, 0.555])"
            ]
          },
          "metadata": {
            "tags": []
          },
          "execution_count": 22
        }
      ]
    },
    {
      "cell_type": "markdown",
      "metadata": {
        "id": "5Tsa8WAWTior"
      },
      "source": [
        "Note how the marginals go up, specifically they go over 0.5 indicating that each bit is independently skewed towards 1 (that's indeed the case, since we removed one of their 0 assignments)."
      ]
    },
    {
      "cell_type": "markdown",
      "metadata": {
        "id": "bnpU8bY3lKXQ"
      },
      "source": [
        "We can do other things, for example, let's remove all bit vectors that start with a 0"
      ]
    },
    {
      "cell_type": "code",
      "metadata": {
        "id": "cOa2X66dlJDo",
        "colab": {
          "base_uri": "https://localhost:8080/",
          "height": 192
        },
        "outputId": "ddd53506-64e6-4287-89c7-a6af61dc2607"
      },
      "source": [
        "f = pyfst.difference(dist, make_path([0, 0, 0]), connect=True)\n",
        "f"
      ],
      "execution_count": 23,
      "outputs": [
        {
          "output_type": "execute_result",
          "data": {
            "text/plain": [
              "<vector Fst at 0x7ff9de813a70>"
            ],
            "image/svg+xml": "<?xml version=\"1.0\" encoding=\"UTF-8\" standalone=\"no\"?>\n<!DOCTYPE svg PUBLIC \"-//W3C//DTD SVG 1.1//EN\"\n \"http://www.w3.org/Graphics/SVG/1.1/DTD/svg11.dtd\">\n<!-- Generated by graphviz version 2.40.1 (20161225.0304)\n -->\n<!-- Title: FST Pages: 1 -->\n<svg width=\"274pt\" height=\"128pt\"\n viewBox=\"0.00 0.00 274.00 128.00\" xmlns=\"http://www.w3.org/2000/svg\" xmlns:xlink=\"http://www.w3.org/1999/xlink\">\n<g id=\"graph0\" class=\"graph\" transform=\"scale(1 1) rotate(0) translate(4 124)\">\n<title>FST</title>\n<polygon fill=\"#ffffff\" stroke=\"transparent\" points=\"-4,4 -4,-124 270,-124 270,4 -4,4\"/>\n<!-- 0 -->\n<g id=\"node1\" class=\"node\">\n<title>0</title>\n<ellipse fill=\"none\" stroke=\"#000000\" stroke-width=\"2\" cx=\"18\" cy=\"-45\" rx=\"18\" ry=\"18\"/>\n<text text-anchor=\"middle\" x=\"18\" y=\"-41.3\" font-family=\"Times,serif\" font-size=\"14.00\" fill=\"#000000\">0</text>\n</g>\n<!-- 1 -->\n<g id=\"node2\" class=\"node\">\n<title>1</title>\n<ellipse fill=\"none\" stroke=\"#000000\" cx=\"92\" cy=\"-72\" rx=\"18\" ry=\"18\"/>\n<text text-anchor=\"middle\" x=\"92\" y=\"-68.3\" font-family=\"Times,serif\" font-size=\"14.00\" fill=\"#000000\">1</text>\n</g>\n<!-- 0&#45;&gt;1 -->\n<g id=\"edge1\" class=\"edge\">\n<title>0&#45;&gt;1</title>\n<path fill=\"none\" stroke=\"#000000\" d=\"M35.1631,-51.2622C44.1292,-54.5336 55.3019,-58.6102 65.3627,-62.281\"/>\n<polygon fill=\"#000000\" stroke=\"#000000\" points=\"64.3361,-65.632 74.93,-65.7718 66.7355,-59.0561 64.3361,-65.632\"/>\n<text text-anchor=\"middle\" x=\"55\" y=\"-62.8\" font-family=\"Times,serif\" font-size=\"14.00\" fill=\"#000000\">1</text>\n</g>\n<!-- 2 -->\n<g id=\"node3\" class=\"node\">\n<title>2</title>\n<ellipse fill=\"none\" stroke=\"#000000\" cx=\"92\" cy=\"-18\" rx=\"18\" ry=\"18\"/>\n<text text-anchor=\"middle\" x=\"92\" y=\"-14.3\" font-family=\"Times,serif\" font-size=\"14.00\" fill=\"#000000\">2</text>\n</g>\n<!-- 0&#45;&gt;2 -->\n<g id=\"edge2\" class=\"edge\">\n<title>0&#45;&gt;2</title>\n<path fill=\"none\" stroke=\"#000000\" d=\"M35.1631,-38.7378C44.1292,-35.4664 55.3019,-31.3898 65.3627,-27.719\"/>\n<polygon fill=\"#000000\" stroke=\"#000000\" points=\"66.7355,-30.9439 74.93,-24.2282 64.3361,-24.368 66.7355,-30.9439\"/>\n<text text-anchor=\"middle\" x=\"55\" y=\"-35.8\" font-family=\"Times,serif\" font-size=\"14.00\" fill=\"#000000\">2</text>\n</g>\n<!-- 3 -->\n<g id=\"node4\" class=\"node\">\n<title>3</title>\n<ellipse fill=\"none\" stroke=\"#000000\" cx=\"166\" cy=\"-102\" rx=\"18\" ry=\"18\"/>\n<text text-anchor=\"middle\" x=\"166\" y=\"-98.3\" font-family=\"Times,serif\" font-size=\"14.00\" fill=\"#000000\">3</text>\n</g>\n<!-- 1&#45;&gt;3 -->\n<g id=\"edge3\" class=\"edge\">\n<title>1&#45;&gt;3</title>\n<path fill=\"none\" stroke=\"#000000\" d=\"M108.7917,-78.8075C117.9693,-82.5281 129.5396,-87.2188 139.8695,-91.4065\"/>\n<polygon fill=\"#000000\" stroke=\"#000000\" points=\"138.6923,-94.706 149.2747,-95.2195 141.3223,-88.2188 138.6923,-94.706\"/>\n<text text-anchor=\"middle\" x=\"129\" y=\"-90.8\" font-family=\"Times,serif\" font-size=\"14.00\" fill=\"#000000\">1</text>\n</g>\n<!-- 4 -->\n<g id=\"node5\" class=\"node\">\n<title>4</title>\n<ellipse fill=\"none\" stroke=\"#000000\" cx=\"166\" cy=\"-26\" rx=\"18\" ry=\"18\"/>\n<text text-anchor=\"middle\" x=\"166\" y=\"-22.3\" font-family=\"Times,serif\" font-size=\"14.00\" fill=\"#000000\">4</text>\n</g>\n<!-- 1&#45;&gt;4 -->\n<g id=\"edge4\" class=\"edge\">\n<title>1&#45;&gt;4</title>\n<path fill=\"none\" stroke=\"#000000\" d=\"M107.3328,-62.4688C117.3541,-56.2393 130.6496,-47.9746 142.0495,-40.8882\"/>\n<polygon fill=\"#000000\" stroke=\"#000000\" points=\"144.0417,-43.7709 150.6868,-35.519 140.3461,-37.8259 144.0417,-43.7709\"/>\n<text text-anchor=\"middle\" x=\"129\" y=\"-53.8\" font-family=\"Times,serif\" font-size=\"14.00\" fill=\"#000000\">2</text>\n</g>\n<!-- 2&#45;&gt;4 -->\n<g id=\"edge5\" class=\"edge\">\n<title>2&#45;&gt;4</title>\n<path fill=\"none\" stroke=\"#000000\" d=\"M109.9133,-19.9366C118.3045,-20.8437 128.4992,-21.9459 137.8835,-22.9604\"/>\n<polygon fill=\"#000000\" stroke=\"#000000\" points=\"137.6769,-26.4583 147.9951,-24.0535 138.4293,-19.4989 137.6769,-26.4583\"/>\n<text text-anchor=\"middle\" x=\"129\" y=\"-25.8\" font-family=\"Times,serif\" font-size=\"14.00\" fill=\"#000000\">1</text>\n</g>\n<!-- 2&#45;&gt;4 -->\n<g id=\"edge6\" class=\"edge\">\n<title>2&#45;&gt;4</title>\n<path fill=\"none\" stroke=\"#000000\" d=\"M106.6537,-7.0684C114.408,-2.6159 124.1351,.8827 133,-2 137.0926,-3.3309 141.1012,-5.3816 144.8352,-7.7356\"/>\n<polygon fill=\"#000000\" stroke=\"#000000\" points=\"142.7986,-10.5821 152.9596,-13.5827 146.8876,-4.9005 142.7986,-10.5821\"/>\n<text text-anchor=\"middle\" x=\"129\" y=\"-5.8\" font-family=\"Times,serif\" font-size=\"14.00\" fill=\"#000000\">2</text>\n</g>\n<!-- 5 -->\n<g id=\"node6\" class=\"node\">\n<title>5</title>\n<ellipse fill=\"none\" stroke=\"#000000\" cx=\"244\" cy=\"-64\" rx=\"18\" ry=\"18\"/>\n<ellipse fill=\"none\" stroke=\"#000000\" cx=\"244\" cy=\"-64\" rx=\"22\" ry=\"22\"/>\n<text text-anchor=\"middle\" x=\"244\" y=\"-60.3\" font-family=\"Times,serif\" font-size=\"14.00\" fill=\"#000000\">5</text>\n</g>\n<!-- 3&#45;&gt;5 -->\n<g id=\"edge7\" class=\"edge\">\n<title>3&#45;&gt;5</title>\n<path fill=\"none\" stroke=\"#000000\" d=\"M182.5418,-93.9412C191.9496,-89.3579 204.0022,-83.4861 214.9379,-78.1584\"/>\n<polygon fill=\"#000000\" stroke=\"#000000\" points=\"216.709,-81.1889 224.166,-73.6627 213.6432,-74.896 216.709,-81.1889\"/>\n<text text-anchor=\"middle\" x=\"203\" y=\"-88.8\" font-family=\"Times,serif\" font-size=\"14.00\" fill=\"#000000\">2</text>\n</g>\n<!-- 4&#45;&gt;5 -->\n<g id=\"edge8\" class=\"edge\">\n<title>4&#45;&gt;5</title>\n<path fill=\"none\" stroke=\"#000000\" d=\"M182.5418,-34.0588C191.9496,-38.6421 204.0022,-44.5139 214.9379,-49.8416\"/>\n<polygon fill=\"#000000\" stroke=\"#000000\" points=\"213.6432,-53.104 224.166,-54.3373 216.709,-46.8111 213.6432,-53.104\"/>\n<text text-anchor=\"middle\" x=\"203\" y=\"-48.8\" font-family=\"Times,serif\" font-size=\"14.00\" fill=\"#000000\">1</text>\n</g>\n<!-- 4&#45;&gt;5 -->\n<g id=\"edge9\" class=\"edge\">\n<title>4&#45;&gt;5</title>\n<path fill=\"none\" stroke=\"#000000\" d=\"M183.3904,-21.1379C190.935,-19.9212 199.6957,-19.7528 207,-23 214.1076,-26.1597 220.4261,-31.4341 225.7418,-37.1657\"/>\n<polygon fill=\"#000000\" stroke=\"#000000\" points=\"223.2633,-39.6592 232.349,-45.1091 228.645,-35.1828 223.2633,-39.6592\"/>\n<text text-anchor=\"middle\" x=\"203\" y=\"-26.8\" font-family=\"Times,serif\" font-size=\"14.00\" fill=\"#000000\">2</text>\n</g>\n</g>\n</svg>\n"
          },
          "metadata": {
            "tags": []
          },
          "execution_count": 23
        }
      ]
    },
    {
      "cell_type": "code",
      "metadata": {
        "id": "-cz8OuwrlSfb",
        "colab": {
          "base_uri": "https://localhost:8080/",
          "height": 152
        },
        "outputId": "f56c1784-cc6f-4d84-c3fd-fe8fa7073be8"
      },
      "source": [
        "f = pyfst.difference(f, make_path([0, 0, 1]), connect=True)\n",
        "f"
      ],
      "execution_count": 24,
      "outputs": [
        {
          "output_type": "execute_result",
          "data": {
            "text/plain": [
              "<vector Fst at 0x7ff9eaf213b0>"
            ],
            "image/svg+xml": "<?xml version=\"1.0\" encoding=\"UTF-8\" standalone=\"no\"?>\n<!DOCTYPE svg PUBLIC \"-//W3C//DTD SVG 1.1//EN\"\n \"http://www.w3.org/Graphics/SVG/1.1/DTD/svg11.dtd\">\n<!-- Generated by graphviz version 2.40.1 (20161225.0304)\n -->\n<!-- Title: FST Pages: 1 -->\n<svg width=\"274pt\" height=\"98pt\"\n viewBox=\"0.00 0.00 274.00 98.00\" xmlns=\"http://www.w3.org/2000/svg\" xmlns:xlink=\"http://www.w3.org/1999/xlink\">\n<g id=\"graph0\" class=\"graph\" transform=\"scale(1 1) rotate(0) translate(4 94)\">\n<title>FST</title>\n<polygon fill=\"#ffffff\" stroke=\"transparent\" points=\"-4,4 -4,-94 270,-94 270,4 -4,4\"/>\n<!-- 0 -->\n<g id=\"node1\" class=\"node\">\n<title>0</title>\n<ellipse fill=\"none\" stroke=\"#000000\" stroke-width=\"2\" cx=\"18\" cy=\"-45\" rx=\"18\" ry=\"18\"/>\n<text text-anchor=\"middle\" x=\"18\" y=\"-41.3\" font-family=\"Times,serif\" font-size=\"14.00\" fill=\"#000000\">0</text>\n</g>\n<!-- 1 -->\n<g id=\"node2\" class=\"node\">\n<title>1</title>\n<ellipse fill=\"none\" stroke=\"#000000\" cx=\"92\" cy=\"-72\" rx=\"18\" ry=\"18\"/>\n<text text-anchor=\"middle\" x=\"92\" y=\"-68.3\" font-family=\"Times,serif\" font-size=\"14.00\" fill=\"#000000\">1</text>\n</g>\n<!-- 0&#45;&gt;1 -->\n<g id=\"edge1\" class=\"edge\">\n<title>0&#45;&gt;1</title>\n<path fill=\"none\" stroke=\"#000000\" d=\"M35.1631,-51.2622C44.1292,-54.5336 55.3019,-58.6102 65.3627,-62.281\"/>\n<polygon fill=\"#000000\" stroke=\"#000000\" points=\"64.3361,-65.632 74.93,-65.7718 66.7355,-59.0561 64.3361,-65.632\"/>\n<text text-anchor=\"middle\" x=\"55\" y=\"-62.8\" font-family=\"Times,serif\" font-size=\"14.00\" fill=\"#000000\">1</text>\n</g>\n<!-- 2 -->\n<g id=\"node3\" class=\"node\">\n<title>2</title>\n<ellipse fill=\"none\" stroke=\"#000000\" cx=\"92\" cy=\"-18\" rx=\"18\" ry=\"18\"/>\n<text text-anchor=\"middle\" x=\"92\" y=\"-14.3\" font-family=\"Times,serif\" font-size=\"14.00\" fill=\"#000000\">2</text>\n</g>\n<!-- 0&#45;&gt;2 -->\n<g id=\"edge2\" class=\"edge\">\n<title>0&#45;&gt;2</title>\n<path fill=\"none\" stroke=\"#000000\" d=\"M35.1631,-38.7378C44.1292,-35.4664 55.3019,-31.3898 65.3627,-27.719\"/>\n<polygon fill=\"#000000\" stroke=\"#000000\" points=\"66.7355,-30.9439 74.93,-24.2282 64.3361,-24.368 66.7355,-30.9439\"/>\n<text text-anchor=\"middle\" x=\"55\" y=\"-35.8\" font-family=\"Times,serif\" font-size=\"14.00\" fill=\"#000000\">2</text>\n</g>\n<!-- 3 -->\n<g id=\"node4\" class=\"node\">\n<title>3</title>\n<ellipse fill=\"none\" stroke=\"#000000\" cx=\"166\" cy=\"-34\" rx=\"18\" ry=\"18\"/>\n<text text-anchor=\"middle\" x=\"166\" y=\"-30.3\" font-family=\"Times,serif\" font-size=\"14.00\" fill=\"#000000\">3</text>\n</g>\n<!-- 1&#45;&gt;3 -->\n<g id=\"edge3\" class=\"edge\">\n<title>1&#45;&gt;3</title>\n<path fill=\"none\" stroke=\"#000000\" d=\"M108.0569,-63.7546C117.657,-58.8248 130.0619,-52.4547 140.9293,-46.8742\"/>\n<polygon fill=\"#000000\" stroke=\"#000000\" points=\"142.6776,-49.9109 149.9744,-42.2293 139.4799,-43.684 142.6776,-49.9109\"/>\n<text text-anchor=\"middle\" x=\"129\" y=\"-57.8\" font-family=\"Times,serif\" font-size=\"14.00\" fill=\"#000000\">2</text>\n</g>\n<!-- 2&#45;&gt;3 -->\n<g id=\"edge4\" class=\"edge\">\n<title>2&#45;&gt;3</title>\n<path fill=\"none\" stroke=\"#000000\" d=\"M109.9133,-21.8732C118.4575,-23.7205 128.8717,-25.9723 138.3962,-28.0316\"/>\n<polygon fill=\"#000000\" stroke=\"#000000\" points=\"137.7378,-31.4701 148.2516,-30.1625 139.2172,-24.6282 137.7378,-31.4701\"/>\n<text text-anchor=\"middle\" x=\"129\" y=\"-29.8\" font-family=\"Times,serif\" font-size=\"14.00\" fill=\"#000000\">1</text>\n</g>\n<!-- 2&#45;&gt;3 -->\n<g id=\"edge5\" class=\"edge\">\n<title>2&#45;&gt;3</title>\n<path fill=\"none\" stroke=\"#000000\" d=\"M107.7353,-8.6693C115.4315,-5.2982 124.7844,-2.9842 133,-6 137.6905,-7.7218 142.1709,-10.4384 146.2339,-13.5169\"/>\n<polygon fill=\"#000000\" stroke=\"#000000\" points=\"144.0608,-16.2646 153.921,-20.1412 148.6305,-10.9618 144.0608,-16.2646\"/>\n<text text-anchor=\"middle\" x=\"129\" y=\"-9.8\" font-family=\"Times,serif\" font-size=\"14.00\" fill=\"#000000\">2</text>\n</g>\n<!-- 4 -->\n<g id=\"node5\" class=\"node\">\n<title>4</title>\n<ellipse fill=\"none\" stroke=\"#000000\" cx=\"244\" cy=\"-34\" rx=\"18\" ry=\"18\"/>\n<ellipse fill=\"none\" stroke=\"#000000\" cx=\"244\" cy=\"-34\" rx=\"22\" ry=\"22\"/>\n<text text-anchor=\"middle\" x=\"244\" y=\"-30.3\" font-family=\"Times,serif\" font-size=\"14.00\" fill=\"#000000\">4</text>\n</g>\n<!-- 3&#45;&gt;4 -->\n<g id=\"edge6\" class=\"edge\">\n<title>3&#45;&gt;4</title>\n<path fill=\"none\" stroke=\"#000000\" d=\"M184.0908,-34C192.2654,-34 202.1799,-34 211.5711,-34\"/>\n<polygon fill=\"#000000\" stroke=\"#000000\" points=\"211.831,-37.5001 221.8309,-34 211.8309,-30.5001 211.831,-37.5001\"/>\n<text text-anchor=\"middle\" x=\"203\" y=\"-37.8\" font-family=\"Times,serif\" font-size=\"14.00\" fill=\"#000000\">1</text>\n</g>\n<!-- 3&#45;&gt;4 -->\n<g id=\"edge7\" class=\"edge\">\n<title>3&#45;&gt;4</title>\n<path fill=\"none\" stroke=\"#000000\" d=\"M180.7129,-23.3344C186.1808,-19.9798 192.6133,-16.7072 199,-15 204.9832,-13.4006 211.2149,-14.2601 217.0664,-16.3056\"/>\n<polygon fill=\"#000000\" stroke=\"#000000\" points=\"215.8987,-19.6217 226.4441,-20.6432 218.8374,-13.2684 215.8987,-19.6217\"/>\n<text text-anchor=\"middle\" x=\"203\" y=\"-18.8\" font-family=\"Times,serif\" font-size=\"14.00\" fill=\"#000000\">2</text>\n</g>\n</g>\n</svg>\n"
          },
          "metadata": {
            "tags": []
          },
          "execution_count": 24
        }
      ]
    },
    {
      "cell_type": "code",
      "metadata": {
        "id": "fq5tTtaSlqf6",
        "colab": {
          "base_uri": "https://localhost:8080/",
          "height": 173
        },
        "outputId": "ae63ae16-c660-46fd-e25e-b46191c9a6d5"
      },
      "source": [
        "f = pyfst.difference(f, make_path([0, 1, 0]), connect=True)\n",
        "f"
      ],
      "execution_count": 25,
      "outputs": [
        {
          "output_type": "execute_result",
          "data": {
            "text/plain": [
              "<vector Fst at 0x7ff9de85def0>"
            ],
            "image/svg+xml": "<?xml version=\"1.0\" encoding=\"UTF-8\" standalone=\"no\"?>\n<!DOCTYPE svg PUBLIC \"-//W3C//DTD SVG 1.1//EN\"\n \"http://www.w3.org/Graphics/SVG/1.1/DTD/svg11.dtd\">\n<!-- Generated by graphviz version 2.40.1 (20161225.0304)\n -->\n<!-- Title: FST Pages: 1 -->\n<svg width=\"274pt\" height=\"114pt\"\n viewBox=\"0.00 0.00 274.00 114.00\" xmlns=\"http://www.w3.org/2000/svg\" xmlns:xlink=\"http://www.w3.org/1999/xlink\">\n<g id=\"graph0\" class=\"graph\" transform=\"scale(1 1) rotate(0) translate(4 110)\">\n<title>FST</title>\n<polygon fill=\"#ffffff\" stroke=\"transparent\" points=\"-4,4 -4,-110 270,-110 270,4 -4,4\"/>\n<!-- 0 -->\n<g id=\"node1\" class=\"node\">\n<title>0</title>\n<ellipse fill=\"none\" stroke=\"#000000\" stroke-width=\"2\" cx=\"18\" cy=\"-61\" rx=\"18\" ry=\"18\"/>\n<text text-anchor=\"middle\" x=\"18\" y=\"-57.3\" font-family=\"Times,serif\" font-size=\"14.00\" fill=\"#000000\">0</text>\n</g>\n<!-- 1 -->\n<g id=\"node2\" class=\"node\">\n<title>1</title>\n<ellipse fill=\"none\" stroke=\"#000000\" cx=\"92\" cy=\"-88\" rx=\"18\" ry=\"18\"/>\n<text text-anchor=\"middle\" x=\"92\" y=\"-84.3\" font-family=\"Times,serif\" font-size=\"14.00\" fill=\"#000000\">1</text>\n</g>\n<!-- 0&#45;&gt;1 -->\n<g id=\"edge1\" class=\"edge\">\n<title>0&#45;&gt;1</title>\n<path fill=\"none\" stroke=\"#000000\" d=\"M35.1631,-67.2622C44.1292,-70.5336 55.3019,-74.6102 65.3627,-78.281\"/>\n<polygon fill=\"#000000\" stroke=\"#000000\" points=\"64.3361,-81.632 74.93,-81.7718 66.7355,-75.0561 64.3361,-81.632\"/>\n<text text-anchor=\"middle\" x=\"55\" y=\"-78.8\" font-family=\"Times,serif\" font-size=\"14.00\" fill=\"#000000\">1</text>\n</g>\n<!-- 2 -->\n<g id=\"node3\" class=\"node\">\n<title>2</title>\n<ellipse fill=\"none\" stroke=\"#000000\" cx=\"92\" cy=\"-34\" rx=\"18\" ry=\"18\"/>\n<text text-anchor=\"middle\" x=\"92\" y=\"-30.3\" font-family=\"Times,serif\" font-size=\"14.00\" fill=\"#000000\">2</text>\n</g>\n<!-- 0&#45;&gt;2 -->\n<g id=\"edge2\" class=\"edge\">\n<title>0&#45;&gt;2</title>\n<path fill=\"none\" stroke=\"#000000\" d=\"M35.1631,-54.7378C44.1292,-51.4664 55.3019,-47.3898 65.3627,-43.719\"/>\n<polygon fill=\"#000000\" stroke=\"#000000\" points=\"66.7355,-46.9439 74.93,-40.2282 64.3361,-40.368 66.7355,-46.9439\"/>\n<text text-anchor=\"middle\" x=\"55\" y=\"-51.8\" font-family=\"Times,serif\" font-size=\"14.00\" fill=\"#000000\">2</text>\n</g>\n<!-- 3 -->\n<g id=\"node4\" class=\"node\">\n<title>3</title>\n<ellipse fill=\"none\" stroke=\"#000000\" cx=\"166\" cy=\"-88\" rx=\"18\" ry=\"18\"/>\n<text text-anchor=\"middle\" x=\"166\" y=\"-84.3\" font-family=\"Times,serif\" font-size=\"14.00\" fill=\"#000000\">3</text>\n</g>\n<!-- 1&#45;&gt;3 -->\n<g id=\"edge3\" class=\"edge\">\n<title>1&#45;&gt;3</title>\n<path fill=\"none\" stroke=\"#000000\" d=\"M110.2921,-88C118.5365,-88 128.4624,-88 137.6378,-88\"/>\n<polygon fill=\"#000000\" stroke=\"#000000\" points=\"137.9183,-91.5001 147.9183,-88 137.9182,-84.5001 137.9183,-91.5001\"/>\n<text text-anchor=\"middle\" x=\"129\" y=\"-91.8\" font-family=\"Times,serif\" font-size=\"14.00\" fill=\"#000000\">2</text>\n</g>\n<!-- 4 -->\n<g id=\"node5\" class=\"node\">\n<title>4</title>\n<ellipse fill=\"none\" stroke=\"#000000\" cx=\"166\" cy=\"-18\" rx=\"18\" ry=\"18\"/>\n<text text-anchor=\"middle\" x=\"166\" y=\"-14.3\" font-family=\"Times,serif\" font-size=\"14.00\" fill=\"#000000\">4</text>\n</g>\n<!-- 2&#45;&gt;4 -->\n<g id=\"edge4\" class=\"edge\">\n<title>2&#45;&gt;4</title>\n<path fill=\"none\" stroke=\"#000000\" d=\"M109.9133,-30.1268C118.4575,-28.2795 128.8717,-26.0277 138.3962,-23.9684\"/>\n<polygon fill=\"#000000\" stroke=\"#000000\" points=\"139.2172,-27.3718 148.2516,-21.8375 137.7378,-20.5299 139.2172,-27.3718\"/>\n<text text-anchor=\"middle\" x=\"129\" y=\"-30.8\" font-family=\"Times,serif\" font-size=\"14.00\" fill=\"#000000\">1</text>\n</g>\n<!-- 2&#45;&gt;4 -->\n<g id=\"edge5\" class=\"edge\">\n<title>2&#45;&gt;4</title>\n<path fill=\"none\" stroke=\"#000000\" d=\"M104.166,-20.6276C109.8994,-15.3036 117.1918,-9.7872 125,-7 129.7805,-5.2935 134.9564,-5.3015 139.969,-6.225\"/>\n<polygon fill=\"#000000\" stroke=\"#000000\" points=\"139.2672,-9.6673 149.8495,-9.1502 141.2545,-2.9553 139.2672,-9.6673\"/>\n<text text-anchor=\"middle\" x=\"129\" y=\"-10.8\" font-family=\"Times,serif\" font-size=\"14.00\" fill=\"#000000\">2</text>\n</g>\n<!-- 5 -->\n<g id=\"node6\" class=\"node\">\n<title>5</title>\n<ellipse fill=\"none\" stroke=\"#000000\" cx=\"244\" cy=\"-50\" rx=\"18\" ry=\"18\"/>\n<ellipse fill=\"none\" stroke=\"#000000\" cx=\"244\" cy=\"-50\" rx=\"22\" ry=\"22\"/>\n<text text-anchor=\"middle\" x=\"244\" y=\"-46.3\" font-family=\"Times,serif\" font-size=\"14.00\" fill=\"#000000\">5</text>\n</g>\n<!-- 3&#45;&gt;5 -->\n<g id=\"edge6\" class=\"edge\">\n<title>3&#45;&gt;5</title>\n<path fill=\"none\" stroke=\"#000000\" d=\"M182.5418,-79.9412C191.9496,-75.3579 204.0022,-69.4861 214.9379,-64.1584\"/>\n<polygon fill=\"#000000\" stroke=\"#000000\" points=\"216.709,-67.1889 224.166,-59.6627 213.6432,-60.896 216.709,-67.1889\"/>\n<text text-anchor=\"middle\" x=\"203\" y=\"-74.8\" font-family=\"Times,serif\" font-size=\"14.00\" fill=\"#000000\">2</text>\n</g>\n<!-- 4&#45;&gt;5 -->\n<g id=\"edge7\" class=\"edge\">\n<title>4&#45;&gt;5</title>\n<path fill=\"none\" stroke=\"#000000\" d=\"M182.9248,-24.9435C192.0498,-28.6871 203.5787,-33.4169 214.1555,-37.7561\"/>\n<polygon fill=\"#000000\" stroke=\"#000000\" points=\"212.9247,-41.0342 223.5048,-41.5917 215.5816,-34.558 212.9247,-41.0342\"/>\n<text text-anchor=\"middle\" x=\"203\" y=\"-37.8\" font-family=\"Times,serif\" font-size=\"14.00\" fill=\"#000000\">1</text>\n</g>\n<!-- 4&#45;&gt;5 -->\n<g id=\"edge8\" class=\"edge\">\n<title>4&#45;&gt;5</title>\n<path fill=\"none\" stroke=\"#000000\" d=\"M183.2794,-12.7655C190.8035,-11.3742 199.5788,-10.9854 207,-14 213.1031,-16.4791 218.7516,-20.5023 223.7036,-24.9784\"/>\n<polygon fill=\"#000000\" stroke=\"#000000\" points=\"221.3556,-27.5816 230.877,-32.2285 226.3316,-22.6582 221.3556,-27.5816\"/>\n<text text-anchor=\"middle\" x=\"203\" y=\"-17.8\" font-family=\"Times,serif\" font-size=\"14.00\" fill=\"#000000\">2</text>\n</g>\n</g>\n</svg>\n"
          },
          "metadata": {
            "tags": []
          },
          "execution_count": 25
        }
      ]
    },
    {
      "cell_type": "code",
      "metadata": {
        "id": "gsoXlWJFltIp",
        "colab": {
          "base_uri": "https://localhost:8080/",
          "height": 90
        },
        "outputId": "7b3ea2fd-c281-4335-8d99-6129ea5b9508"
      },
      "source": [
        "f = pyfst.difference(f, make_path([0, 1, 1]), connect=True)\n",
        "f"
      ],
      "execution_count": 26,
      "outputs": [
        {
          "output_type": "execute_result",
          "data": {
            "text/plain": [
              "<vector Fst at 0x7ff9de80faf0>"
            ],
            "image/svg+xml": "<?xml version=\"1.0\" encoding=\"UTF-8\" standalone=\"no\"?>\n<!DOCTYPE svg PUBLIC \"-//W3C//DTD SVG 1.1//EN\"\n \"http://www.w3.org/Graphics/SVG/1.1/DTD/svg11.dtd\">\n<!-- Generated by graphviz version 2.40.1 (20161225.0304)\n -->\n<!-- Title: FST Pages: 1 -->\n<svg width=\"274pt\" height=\"52pt\"\n viewBox=\"0.00 0.00 274.00 52.00\" xmlns=\"http://www.w3.org/2000/svg\" xmlns:xlink=\"http://www.w3.org/1999/xlink\">\n<g id=\"graph0\" class=\"graph\" transform=\"scale(1 1) rotate(0) translate(4 48)\">\n<title>FST</title>\n<polygon fill=\"#ffffff\" stroke=\"transparent\" points=\"-4,4 -4,-48 270,-48 270,4 -4,4\"/>\n<!-- 0 -->\n<g id=\"node1\" class=\"node\">\n<title>0</title>\n<ellipse fill=\"none\" stroke=\"#000000\" stroke-width=\"2\" cx=\"18\" cy=\"-22\" rx=\"18\" ry=\"18\"/>\n<text text-anchor=\"middle\" x=\"18\" y=\"-18.3\" font-family=\"Times,serif\" font-size=\"14.00\" fill=\"#000000\">0</text>\n</g>\n<!-- 1 -->\n<g id=\"node2\" class=\"node\">\n<title>1</title>\n<ellipse fill=\"none\" stroke=\"#000000\" cx=\"92\" cy=\"-22\" rx=\"18\" ry=\"18\"/>\n<text text-anchor=\"middle\" x=\"92\" y=\"-18.3\" font-family=\"Times,serif\" font-size=\"14.00\" fill=\"#000000\">1</text>\n</g>\n<!-- 0&#45;&gt;1 -->\n<g id=\"edge1\" class=\"edge\">\n<title>0&#45;&gt;1</title>\n<path fill=\"none\" stroke=\"#000000\" d=\"M36.2921,-22C44.5365,-22 54.4624,-22 63.6378,-22\"/>\n<polygon fill=\"#000000\" stroke=\"#000000\" points=\"63.9183,-25.5001 73.9183,-22 63.9182,-18.5001 63.9183,-25.5001\"/>\n<text text-anchor=\"middle\" x=\"55\" y=\"-25.8\" font-family=\"Times,serif\" font-size=\"14.00\" fill=\"#000000\">2</text>\n</g>\n<!-- 2 -->\n<g id=\"node3\" class=\"node\">\n<title>2</title>\n<ellipse fill=\"none\" stroke=\"#000000\" cx=\"166\" cy=\"-22\" rx=\"18\" ry=\"18\"/>\n<text text-anchor=\"middle\" x=\"166\" y=\"-18.3\" font-family=\"Times,serif\" font-size=\"14.00\" fill=\"#000000\">2</text>\n</g>\n<!-- 1&#45;&gt;2 -->\n<g id=\"edge2\" class=\"edge\">\n<title>1&#45;&gt;2</title>\n<path fill=\"none\" stroke=\"#000000\" d=\"M110.2921,-22C118.5365,-22 128.4624,-22 137.6378,-22\"/>\n<polygon fill=\"#000000\" stroke=\"#000000\" points=\"137.9183,-25.5001 147.9183,-22 137.9182,-18.5001 137.9183,-25.5001\"/>\n<text text-anchor=\"middle\" x=\"129\" y=\"-25.8\" font-family=\"Times,serif\" font-size=\"14.00\" fill=\"#000000\">1</text>\n</g>\n<!-- 1&#45;&gt;2 -->\n<g id=\"edge3\" class=\"edge\">\n<title>1&#45;&gt;2</title>\n<path fill=\"none\" stroke=\"#000000\" d=\"M106.7129,-11.3344C112.1808,-7.9798 118.6133,-4.7072 125,-3 131.0207,-1.3906 137.2527,-2.6095 142.9851,-5.0564\"/>\n<polygon fill=\"#000000\" stroke=\"#000000\" points=\"141.589,-8.2835 152.0354,-10.0511 144.9714,-2.1549 141.589,-8.2835\"/>\n<text text-anchor=\"middle\" x=\"129\" y=\"-6.8\" font-family=\"Times,serif\" font-size=\"14.00\" fill=\"#000000\">2</text>\n</g>\n<!-- 3 -->\n<g id=\"node4\" class=\"node\">\n<title>3</title>\n<ellipse fill=\"none\" stroke=\"#000000\" cx=\"244\" cy=\"-22\" rx=\"18\" ry=\"18\"/>\n<ellipse fill=\"none\" stroke=\"#000000\" cx=\"244\" cy=\"-22\" rx=\"22\" ry=\"22\"/>\n<text text-anchor=\"middle\" x=\"244\" y=\"-18.3\" font-family=\"Times,serif\" font-size=\"14.00\" fill=\"#000000\">3</text>\n</g>\n<!-- 2&#45;&gt;3 -->\n<g id=\"edge4\" class=\"edge\">\n<title>2&#45;&gt;3</title>\n<path fill=\"none\" stroke=\"#000000\" d=\"M184.0908,-22C192.2654,-22 202.1799,-22 211.5711,-22\"/>\n<polygon fill=\"#000000\" stroke=\"#000000\" points=\"211.831,-25.5001 221.8309,-22 211.8309,-18.5001 211.831,-25.5001\"/>\n<text text-anchor=\"middle\" x=\"203\" y=\"-25.8\" font-family=\"Times,serif\" font-size=\"14.00\" fill=\"#000000\">1</text>\n</g>\n<!-- 2&#45;&gt;3 -->\n<g id=\"edge5\" class=\"edge\">\n<title>2&#45;&gt;3</title>\n<path fill=\"none\" stroke=\"#000000\" d=\"M180.7129,-11.3344C186.1808,-7.9798 192.6133,-4.7072 199,-3 204.9832,-1.4006 211.2149,-2.2601 217.0664,-4.3056\"/>\n<polygon fill=\"#000000\" stroke=\"#000000\" points=\"215.8987,-7.6217 226.4441,-8.6432 218.8374,-1.2684 215.8987,-7.6217\"/>\n<text text-anchor=\"middle\" x=\"203\" y=\"-6.8\" font-family=\"Times,serif\" font-size=\"14.00\" fill=\"#000000\">2</text>\n</g>\n</g>\n</svg>\n"
          },
          "metadata": {
            "tags": []
          },
          "execution_count": 26
        }
      ]
    },
    {
      "cell_type": "markdown",
      "metadata": {
        "id": "l8DrK1M3mAJw"
      },
      "source": [
        "And sample "
      ]
    },
    {
      "cell_type": "code",
      "metadata": {
        "id": "p0izAK4wluRf",
        "colab": {
          "base_uri": "https://localhost:8080/"
        },
        "outputId": "71550e82-9958-4d35-8e14-116b27e853d6"
      },
      "source": [
        "inside_no_zero_first = pyfst.shortestdistance(f, reverse=True)\n",
        "samples_no_zero_first = np.zeros([1000, 3], dtype=int)\n",
        "for i in range(1000):\n",
        "    path, weight = sample(f, inside_no_zero_first)\n",
        "    samples_no_zero_first[i] = np.array(path, dtype=int)\n",
        "samples_no_zero_first.mean(0)"
      ],
      "execution_count": 27,
      "outputs": [
        {
          "output_type": "execute_result",
          "data": {
            "text/plain": [
              "array([1.   , 0.528, 0.485])"
            ]
          },
          "metadata": {
            "tags": []
          },
          "execution_count": 27
        }
      ]
    },
    {
      "cell_type": "markdown",
      "metadata": {
        "id": "uBKL_qRgm_J0"
      },
      "source": [
        "See how the first bit is *never* 0, cool hun?!"
      ]
    },
    {
      "cell_type": "code",
      "metadata": {
        "id": "DrhqFc65nCn9"
      },
      "source": [
        ""
      ],
      "execution_count": 27,
      "outputs": []
    },
    {
      "cell_type": "markdown",
      "metadata": {
        "id": "8KGdFy0r0m-o"
      },
      "source": [
        "Correlations can be coded via higher-order factors, which you can obtain via weighted intersection."
      ]
    },
    {
      "cell_type": "code",
      "metadata": {
        "id": "3swgL7QDx2To"
      },
      "source": [
        "def make_binary_factor(factor=[0, 0], weight=1):\n",
        "    \"\"\"This weighted regular expression will increase the weight of a particular assignment (e.g., every sequence of adjacent zeros will get +1).\"\"\"\n",
        "    assert len(factor) == 2\n",
        "    f = pyfst.Fst('log')\n",
        "    s0 = f.add_state()\n",
        "    origin = s0\n",
        "    for i, w in enumerate(factor):\n",
        "        assert w in {0, 1}\n",
        "        destination = f.add_state()\n",
        "        if i + 1 == len(factor):\n",
        "            f.add_arc(origin, pyfst.Arc(w + 1, w + 1, pyfst.Weight(f.weight_type(), weight), destination))\n",
        "        else:\n",
        "            f.add_arc(origin, pyfst.Arc(w + 1, w + 1, pyfst.Weight.One(f.weight_type()), destination))\n",
        "        origin = destination\n",
        "    f.set_start(s0)\n",
        "    f.set_final(destination, pyfst.Weight.One(f.weight_type()))\n",
        "    \n",
        "    if factor[0] == 0:\n",
        "        f.add_arc(s0, pyfst.Arc(1 + 1, 1 + 1, pyfst.Weight.One(f.weight_type()), destination))\n",
        "    else:\n",
        "        f.add_arc(s0, pyfst.Arc(0 + 1, 0 + 1, pyfst.Weight.One(f.weight_type()), destination))\n",
        "\n",
        "    if factor[1] == 0:\n",
        "        f.add_arc(s0 + 1, pyfst.Arc(1 + 1, 1 + 1, pyfst.Weight.One(f.weight_type()), destination))\n",
        "    else:\n",
        "        f.add_arc(s0 + 1, pyfst.Arc(0 + 1, 0 + 1, pyfst.Weight.One(f.weight_type()), destination))\n",
        "\n",
        "    for w in [0, 1]:\n",
        "        if w == factor[0]:\n",
        "            f.add_arc(destination, pyfst.Arc(w + 1, w + 1, pyfst.Weight.One(f.weight_type()), s0 + 1))    \n",
        "        else:\n",
        "            f.add_arc(destination, pyfst.Arc(w + 1, w + 1, pyfst.Weight.One(f.weight_type()), destination))    \n",
        "    \n",
        "    return f.arcsort('ilabel')  # useful for some operations, like difference"
      ],
      "execution_count": 30,
      "outputs": []
    },
    {
      "cell_type": "code",
      "metadata": {
        "id": "vUCiDRCAyc52",
        "colab": {
          "base_uri": "https://localhost:8080/",
          "height": 177
        },
        "outputId": "62995370-21e1-4f2a-b7e3-5e6ee0c8168e"
      },
      "source": [
        "binary_regex = make_binary_factor([0, 1], weight=1.5)\n",
        "binary_regex"
      ],
      "execution_count": 31,
      "outputs": [
        {
          "output_type": "execute_result",
          "data": {
            "text/plain": [
              "<vector Fst at 0x7ff9da8ac230>"
            ],
            "image/svg+xml": "<?xml version=\"1.0\" encoding=\"UTF-8\" standalone=\"no\"?>\n<!DOCTYPE svg PUBLIC \"-//W3C//DTD SVG 1.1//EN\"\n \"http://www.w3.org/Graphics/SVG/1.1/DTD/svg11.dtd\">\n<!-- Generated by graphviz version 2.40.1 (20161225.0304)\n -->\n<!-- Title: FST Pages: 1 -->\n<svg width=\"223pt\" height=\"117pt\"\n viewBox=\"0.00 0.00 223.00 117.00\" xmlns=\"http://www.w3.org/2000/svg\" xmlns:xlink=\"http://www.w3.org/1999/xlink\">\n<g id=\"graph0\" class=\"graph\" transform=\"scale(1 1) rotate(0) translate(4 113)\">\n<title>FST</title>\n<polygon fill=\"#ffffff\" stroke=\"transparent\" points=\"-4,4 -4,-113 219,-113 219,4 -4,4\"/>\n<!-- 0 -->\n<g id=\"node1\" class=\"node\">\n<title>0</title>\n<ellipse fill=\"none\" stroke=\"#000000\" stroke-width=\"2\" cx=\"18\" cy=\"-18\" rx=\"18\" ry=\"18\"/>\n<text text-anchor=\"middle\" x=\"18\" y=\"-14.3\" font-family=\"Times,serif\" font-size=\"14.00\" fill=\"#000000\">0</text>\n</g>\n<!-- 1 -->\n<g id=\"node2\" class=\"node\">\n<title>1</title>\n<ellipse fill=\"none\" stroke=\"#000000\" cx=\"92\" cy=\"-63\" rx=\"18\" ry=\"18\"/>\n<text text-anchor=\"middle\" x=\"92\" y=\"-59.3\" font-family=\"Times,serif\" font-size=\"14.00\" fill=\"#000000\">1</text>\n</g>\n<!-- 0&#45;&gt;1 -->\n<g id=\"edge1\" class=\"edge\">\n<title>0&#45;&gt;1</title>\n<path fill=\"none\" stroke=\"#000000\" d=\"M33.6935,-27.5433C43.5708,-33.5498 56.521,-41.425 67.7074,-48.2275\"/>\n<polygon fill=\"#000000\" stroke=\"#000000\" points=\"66.2201,-51.4193 76.5829,-53.6247 69.8572,-45.4384 66.2201,-51.4193\"/>\n<text text-anchor=\"middle\" x=\"55\" y=\"-44.8\" font-family=\"Times,serif\" font-size=\"14.00\" fill=\"#000000\">1</text>\n</g>\n<!-- 2 -->\n<g id=\"node3\" class=\"node\">\n<title>2</title>\n<ellipse fill=\"none\" stroke=\"#000000\" cx=\"193\" cy=\"-54\" rx=\"18\" ry=\"18\"/>\n<ellipse fill=\"none\" stroke=\"#000000\" cx=\"193\" cy=\"-54\" rx=\"22\" ry=\"22\"/>\n<text text-anchor=\"middle\" x=\"193\" y=\"-50.3\" font-family=\"Times,serif\" font-size=\"14.00\" fill=\"#000000\">2</text>\n</g>\n<!-- 0&#45;&gt;2 -->\n<g id=\"edge2\" class=\"edge\">\n<title>0&#45;&gt;2</title>\n<path fill=\"none\" stroke=\"#000000\" d=\"M36.1997,-16.4804C63.3626,-14.9139 115.6337,-14.6374 156,-31 159.3252,-32.3479 162.6885,-33.986 165.9616,-35.7604\"/>\n<polygon fill=\"#000000\" stroke=\"#000000\" points=\"164.4489,-38.9315 174.8409,-40.9948 168.0037,-32.9013 164.4489,-38.9315\"/>\n<text text-anchor=\"middle\" x=\"92\" y=\"-23.8\" font-family=\"Times,serif\" font-size=\"14.00\" fill=\"#000000\">2</text>\n</g>\n<!-- 1&#45;&gt;2 -->\n<g id=\"edge3\" class=\"edge\">\n<title>1&#45;&gt;2</title>\n<path fill=\"none\" stroke=\"#000000\" d=\"M104.5606,-76.1602C110.2605,-81.2025 117.4193,-86.3725 125,-89 138.018,-93.5122 143.199,-94.0953 156,-89 161.7893,-86.6957 167.1949,-83.0079 171.9895,-78.8729\"/>\n<polygon fill=\"#000000\" stroke=\"#000000\" points=\"174.6921,-81.128 179.4413,-71.6572 169.8226,-76.0992 174.6921,-81.128\"/>\n<text text-anchor=\"middle\" x=\"140.5\" y=\"-95.8\" font-family=\"Times,serif\" font-size=\"14.00\" fill=\"#000000\">1</text>\n</g>\n<!-- 1&#45;&gt;2 -->\n<g id=\"edge4\" class=\"edge\">\n<title>1&#45;&gt;2</title>\n<path fill=\"none\" stroke=\"#000000\" d=\"M110.0568,-61.391C124.1533,-60.1349 144.0985,-58.3576 160.8975,-56.8606\"/>\n<polygon fill=\"#000000\" stroke=\"#000000\" points=\"161.2204,-60.3458 170.8702,-55.972 160.599,-53.3734 161.2204,-60.3458\"/>\n<text text-anchor=\"middle\" x=\"140.5\" y=\"-62.8\" font-family=\"Times,serif\" font-size=\"14.00\" fill=\"#000000\">2/1.5</text>\n</g>\n<!-- 2&#45;&gt;1 -->\n<g id=\"edge5\" class=\"edge\">\n<title>2&#45;&gt;1</title>\n<path fill=\"none\" stroke=\"#000000\" d=\"M173.3855,-43.664C159.654,-37.809 140.9798,-32.6305 125,-38 120.861,-39.3908 116.828,-41.5293 113.0839,-43.9824\"/>\n<polygon fill=\"#000000\" stroke=\"#000000\" points=\"110.8603,-41.275 104.9577,-50.0733 115.0586,-46.8763 110.8603,-41.275\"/>\n<text text-anchor=\"middle\" x=\"140.5\" y=\"-41.8\" font-family=\"Times,serif\" font-size=\"14.00\" fill=\"#000000\">1</text>\n</g>\n<!-- 2&#45;&gt;2 -->\n<g id=\"edge6\" class=\"edge\">\n<title>2&#45;&gt;2</title>\n<path fill=\"none\" stroke=\"#000000\" d=\"M183.5928,-74.1697C182.1455,-84.599 185.2813,-94 193,-94 198.0654,-94 201.1571,-89.9513 202.2751,-84.2203\"/>\n<polygon fill=\"#000000\" stroke=\"#000000\" points=\"205.7754,-84.2149 202.4072,-74.1697 198.776,-84.1228 205.7754,-84.2149\"/>\n<text text-anchor=\"middle\" x=\"193\" y=\"-97.8\" font-family=\"Times,serif\" font-size=\"14.00\" fill=\"#000000\">2</text>\n</g>\n</g>\n</svg>\n"
          },
          "metadata": {
            "tags": []
          },
          "execution_count": 31
        }
      ]
    },
    {
      "cell_type": "code",
      "metadata": {
        "id": "hFWcc6NbyfNH",
        "colab": {
          "base_uri": "https://localhost:8080/",
          "height": 200
        },
        "outputId": "e732bd2a-1096-43e3-b73f-4c30cd9822a9"
      },
      "source": [
        "pyfst.intersect(dist, binary_regex)"
      ],
      "execution_count": 32,
      "outputs": [
        {
          "output_type": "execute_result",
          "data": {
            "text/plain": [
              "<vector Fst at 0x7ff9da8ad430>"
            ],
            "image/svg+xml": "<?xml version=\"1.0\" encoding=\"UTF-8\" standalone=\"no\"?>\n<!DOCTYPE svg PUBLIC \"-//W3C//DTD SVG 1.1//EN\"\n \"http://www.w3.org/Graphics/SVG/1.1/DTD/svg11.dtd\">\n<!-- Generated by graphviz version 2.40.1 (20161225.0304)\n -->\n<!-- Title: FST Pages: 1 -->\n<svg width=\"320pt\" height=\"134pt\"\n viewBox=\"0.00 0.00 320.00 134.00\" xmlns=\"http://www.w3.org/2000/svg\" xmlns:xlink=\"http://www.w3.org/1999/xlink\">\n<g id=\"graph0\" class=\"graph\" transform=\"scale(1 1) rotate(0) translate(4 130)\">\n<title>FST</title>\n<polygon fill=\"#ffffff\" stroke=\"transparent\" points=\"-4,4 -4,-130 316,-130 316,4 -4,4\"/>\n<!-- 0 -->\n<g id=\"node1\" class=\"node\">\n<title>0</title>\n<ellipse fill=\"none\" stroke=\"#000000\" stroke-width=\"2\" cx=\"18\" cy=\"-75\" rx=\"18\" ry=\"18\"/>\n<text text-anchor=\"middle\" x=\"18\" y=\"-71.3\" font-family=\"Times,serif\" font-size=\"14.00\" fill=\"#000000\">0</text>\n</g>\n<!-- 1 -->\n<g id=\"node2\" class=\"node\">\n<title>1</title>\n<ellipse fill=\"none\" stroke=\"#000000\" cx=\"92\" cy=\"-102\" rx=\"18\" ry=\"18\"/>\n<text text-anchor=\"middle\" x=\"92\" y=\"-98.3\" font-family=\"Times,serif\" font-size=\"14.00\" fill=\"#000000\">1</text>\n</g>\n<!-- 0&#45;&gt;1 -->\n<g id=\"edge1\" class=\"edge\">\n<title>0&#45;&gt;1</title>\n<path fill=\"none\" stroke=\"#000000\" d=\"M35.1631,-81.2622C44.1292,-84.5336 55.3019,-88.6102 65.3627,-92.281\"/>\n<polygon fill=\"#000000\" stroke=\"#000000\" points=\"64.3361,-95.632 74.93,-95.7718 66.7355,-89.0561 64.3361,-95.632\"/>\n<text text-anchor=\"middle\" x=\"55\" y=\"-92.8\" font-family=\"Times,serif\" font-size=\"14.00\" fill=\"#000000\">1</text>\n</g>\n<!-- 2 -->\n<g id=\"node3\" class=\"node\">\n<title>2</title>\n<ellipse fill=\"none\" stroke=\"#000000\" cx=\"92\" cy=\"-48\" rx=\"18\" ry=\"18\"/>\n<text text-anchor=\"middle\" x=\"92\" y=\"-44.3\" font-family=\"Times,serif\" font-size=\"14.00\" fill=\"#000000\">2</text>\n</g>\n<!-- 0&#45;&gt;2 -->\n<g id=\"edge2\" class=\"edge\">\n<title>0&#45;&gt;2</title>\n<path fill=\"none\" stroke=\"#000000\" d=\"M35.1631,-68.7378C44.1292,-65.4664 55.3019,-61.3898 65.3627,-57.719\"/>\n<polygon fill=\"#000000\" stroke=\"#000000\" points=\"66.7355,-60.9439 74.93,-54.2282 64.3361,-54.368 66.7355,-60.9439\"/>\n<text text-anchor=\"middle\" x=\"55\" y=\"-65.8\" font-family=\"Times,serif\" font-size=\"14.00\" fill=\"#000000\">2</text>\n</g>\n<!-- 3 -->\n<g id=\"node4\" class=\"node\">\n<title>3</title>\n<ellipse fill=\"none\" stroke=\"#000000\" cx=\"189\" cy=\"-94\" rx=\"18\" ry=\"18\"/>\n<text text-anchor=\"middle\" x=\"189\" y=\"-90.3\" font-family=\"Times,serif\" font-size=\"14.00\" fill=\"#000000\">3</text>\n</g>\n<!-- 1&#45;&gt;3 -->\n<g id=\"edge3\" class=\"edge\">\n<title>1&#45;&gt;3</title>\n<path fill=\"none\" stroke=\"#000000\" d=\"M109.2786,-107.3949C122.2528,-110.6676 140.3937,-113.5838 156,-110 158.6994,-109.3801 161.4343,-108.5089 164.1146,-107.4897\"/>\n<polygon fill=\"#000000\" stroke=\"#000000\" points=\"165.718,-110.6069 173.4226,-103.3343 162.8644,-104.2149 165.718,-110.6069\"/>\n<text text-anchor=\"middle\" x=\"140.5\" y=\"-114.8\" font-family=\"Times,serif\" font-size=\"14.00\" fill=\"#000000\">1</text>\n</g>\n<!-- 1&#45;&gt;3 -->\n<g id=\"edge4\" class=\"edge\">\n<title>1&#45;&gt;3</title>\n<path fill=\"none\" stroke=\"#000000\" d=\"M108.8643,-95.2209C113.9636,-93.4886 119.635,-91.8706 125,-91 136.6488,-89.1097 149.6344,-89.3014 160.8482,-90.1741\"/>\n<polygon fill=\"#000000\" stroke=\"#000000\" points=\"160.6592,-93.6724 170.9552,-91.1738 161.3483,-86.7064 160.6592,-93.6724\"/>\n<text text-anchor=\"middle\" x=\"140.5\" y=\"-94.8\" font-family=\"Times,serif\" font-size=\"14.00\" fill=\"#000000\">2/1.5</text>\n</g>\n<!-- 2&#45;&gt;3 -->\n<g id=\"edge6\" class=\"edge\">\n<title>2&#45;&gt;3</title>\n<path fill=\"none\" stroke=\"#000000\" d=\"M109.6896,-52.5407C122.8735,-56.2868 141.0968,-62.2423 156,-70 159.5739,-71.8604 163.1886,-74.0787 166.6496,-76.4041\"/>\n<polygon fill=\"#000000\" stroke=\"#000000\" points=\"164.6581,-79.2829 174.8254,-82.2623 168.7352,-73.5928 164.6581,-79.2829\"/>\n<text text-anchor=\"middle\" x=\"140.5\" y=\"-73.8\" font-family=\"Times,serif\" font-size=\"14.00\" fill=\"#000000\">2</text>\n</g>\n<!-- 4 -->\n<g id=\"node5\" class=\"node\">\n<title>4</title>\n<ellipse fill=\"none\" stroke=\"#000000\" cx=\"189\" cy=\"-18\" rx=\"18\" ry=\"18\"/>\n<text text-anchor=\"middle\" x=\"189\" y=\"-14.3\" font-family=\"Times,serif\" font-size=\"14.00\" fill=\"#000000\">4</text>\n</g>\n<!-- 2&#45;&gt;4 -->\n<g id=\"edge5\" class=\"edge\">\n<title>2&#45;&gt;4</title>\n<path fill=\"none\" stroke=\"#000000\" d=\"M103.7088,-34.02C109.457,-28.2236 116.8882,-22.1304 125,-19 136.1562,-14.6948 149.2417,-13.8322 160.6635,-14.2789\"/>\n<polygon fill=\"#000000\" stroke=\"#000000\" points=\"160.7571,-17.7951 170.9871,-15.0385 161.2709,-10.814 160.7571,-17.7951\"/>\n<text text-anchor=\"middle\" x=\"140.5\" y=\"-22.8\" font-family=\"Times,serif\" font-size=\"14.00\" fill=\"#000000\">1</text>\n</g>\n<!-- 5 -->\n<g id=\"node6\" class=\"node\">\n<title>5</title>\n<ellipse fill=\"none\" stroke=\"#000000\" cx=\"290\" cy=\"-56\" rx=\"18\" ry=\"18\"/>\n<ellipse fill=\"none\" stroke=\"#000000\" cx=\"290\" cy=\"-56\" rx=\"22\" ry=\"22\"/>\n<text text-anchor=\"middle\" x=\"290\" y=\"-52.3\" font-family=\"Times,serif\" font-size=\"14.00\" fill=\"#000000\">5</text>\n</g>\n<!-- 3&#45;&gt;5 -->\n<g id=\"edge7\" class=\"edge\">\n<title>3&#45;&gt;5</title>\n<path fill=\"none\" stroke=\"#000000\" d=\"M206.2433,-88.4726C219.1995,-84.223 237.3333,-78.0697 253,-72 255.3982,-71.0709 257.8704,-70.0787 260.3459,-69.0609\"/>\n<polygon fill=\"#000000\" stroke=\"#000000\" points=\"261.9089,-72.2002 269.7602,-65.0864 259.1863,-65.7514 261.9089,-72.2002\"/>\n<text text-anchor=\"middle\" x=\"237.5\" y=\"-85.8\" font-family=\"Times,serif\" font-size=\"14.00\" fill=\"#000000\">2</text>\n</g>\n<!-- 4&#45;&gt;5 -->\n<g id=\"edge8\" class=\"edge\">\n<title>4&#45;&gt;5</title>\n<path fill=\"none\" stroke=\"#000000\" d=\"M205.2482,-26.431C210.5224,-29.0178 216.4468,-31.7679 222,-34 233.8429,-38.7601 247.1478,-43.247 258.8275,-46.9116\"/>\n<polygon fill=\"#000000\" stroke=\"#000000\" points=\"258.0089,-50.3213 268.5956,-49.9065 260.0609,-43.6288 258.0089,-50.3213\"/>\n<text text-anchor=\"middle\" x=\"237.5\" y=\"-47.8\" font-family=\"Times,serif\" font-size=\"14.00\" fill=\"#000000\">1</text>\n</g>\n<!-- 4&#45;&gt;5 -->\n<g id=\"edge9\" class=\"edge\">\n<title>4&#45;&gt;5</title>\n<path fill=\"none\" stroke=\"#000000\" d=\"M206.3501,-13.1017C219.6871,-10.2807 238.2619,-8.4481 253,-15 260.1076,-18.1597 266.4261,-23.4341 271.7418,-29.1657\"/>\n<polygon fill=\"#000000\" stroke=\"#000000\" points=\"269.2633,-31.6592 278.349,-37.1091 274.645,-27.1828 269.2633,-31.6592\"/>\n<text text-anchor=\"middle\" x=\"237.5\" y=\"-18.8\" font-family=\"Times,serif\" font-size=\"14.00\" fill=\"#000000\">2/1.5</text>\n</g>\n</g>\n</svg>\n"
          },
          "metadata": {
            "tags": []
          },
          "execution_count": 32
        }
      ]
    },
    {
      "cell_type": "code",
      "metadata": {
        "id": "a_9BO-7j0XX5"
      },
      "source": [
        ""
      ],
      "execution_count": null,
      "outputs": []
    }
  ]
}